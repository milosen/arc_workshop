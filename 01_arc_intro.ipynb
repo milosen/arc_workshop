{
 "cells": [
  {
   "cell_type": "markdown",
   "id": "d6dcef0d-76e5-4330-a879-ab8ff03acbd8",
   "metadata": {},
   "source": [
    "# ARC Typesystem\n",
    "In this tutorial, you will learn the basic data structures of the ARC Typesystem, as well as saving and load with the core ARC-Types."
   ]
  },
  {
   "cell_type": "markdown",
   "id": "0e275300-27da-484a-8dbe-92c2c3df27a4",
   "metadata": {},
   "source": [
    "> ⚠️ We recommend using a virtual environment\n",
    "\n",
    "> ⚠️ If you use a virtual environment, make sure you use the right kernel for this notebook. You can usually select it in the top right corner. If your environment is not in the list, you have to add the ipython kernel from the environment like so:\n",
    "> 1. Activate virtual environment in terminal\n",
    "> 2. Run `pip install ipykernel`\n",
    "> 3. Run `python -m ipykernel install --user --name arc --display-name \"Python (ARC)\"`\n",
    "> 4. Reload this page"
   ]
  },
  {
   "cell_type": "code",
   "execution_count": 44,
   "id": "68a9a4b5-16aa-4c97-be14-ccde1dee7c3d",
   "metadata": {},
   "outputs": [
    {
     "name": "stdout",
     "output_type": "stream",
     "text": [
      "Collecting git+https://github.com/milosen/arc.git\n",
      "  Cloning https://github.com/milosen/arc.git to /private/var/folders/n1/bxdrmv296493f6tbg9v8pjnh0000gn/T/pip-req-build-qkr5cw7n\n",
      "  Running command git clone --filter=blob:none --quiet https://github.com/milosen/arc.git /private/var/folders/n1/bxdrmv296493f6tbg9v8pjnh0000gn/T/pip-req-build-qkr5cw7n\n",
      "  Resolved https://github.com/milosen/arc.git to commit 7c80f8d820e0f0241d860e90cd76e23fdcbd9b37\n",
      "  Preparing metadata (setup.py) ... \u001b[?25ldone\n",
      "\u001b[?25hRequirement already satisfied: pandas in /Users/nikola/miniforge3/lib/python3.10/site-packages (from arc==1.0) (2.2.2)\n",
      "Requirement already satisfied: numpy in /Users/nikola/miniforge3/lib/python3.10/site-packages (from arc==1.0) (1.26.4)\n",
      "Requirement already satisfied: scipy in /Users/nikola/miniforge3/lib/python3.10/site-packages (from arc==1.0) (1.13.1)\n",
      "Requirement already satisfied: tqdm in /Users/nikola/miniforge3/lib/python3.10/site-packages (from arc==1.0) (4.66.1)\n",
      "Requirement already satisfied: pydantic in /Users/nikola/miniforge3/lib/python3.10/site-packages (from arc==1.0) (2.8.2)\n",
      "Requirement already satisfied: pytest in /Users/nikola/miniforge3/lib/python3.10/site-packages (from arc==1.0) (8.2.1)\n",
      "Requirement already satisfied: pingouin in /Users/nikola/miniforge3/lib/python3.10/site-packages (from arc==1.0) (0.5.4)\n",
      "Requirement already satisfied: matplotlib in /Users/nikola/miniforge3/lib/python3.10/site-packages (from arc==1.0) (3.9.0)\n",
      "Requirement already satisfied: contourpy>=1.0.1 in /Users/nikola/miniforge3/lib/python3.10/site-packages (from matplotlib->arc==1.0) (1.2.1)\n",
      "Requirement already satisfied: cycler>=0.10 in /Users/nikola/miniforge3/lib/python3.10/site-packages (from matplotlib->arc==1.0) (0.12.1)\n",
      "Requirement already satisfied: fonttools>=4.22.0 in /Users/nikola/miniforge3/lib/python3.10/site-packages (from matplotlib->arc==1.0) (4.52.1)\n",
      "Requirement already satisfied: kiwisolver>=1.3.1 in /Users/nikola/miniforge3/lib/python3.10/site-packages (from matplotlib->arc==1.0) (1.4.5)\n",
      "Requirement already satisfied: packaging>=20.0 in /Users/nikola/miniforge3/lib/python3.10/site-packages (from matplotlib->arc==1.0) (23.1)\n",
      "Requirement already satisfied: pillow>=8 in /Users/nikola/miniforge3/lib/python3.10/site-packages (from matplotlib->arc==1.0) (10.3.0)\n",
      "Requirement already satisfied: pyparsing>=2.3.1 in /Users/nikola/miniforge3/lib/python3.10/site-packages (from matplotlib->arc==1.0) (3.1.2)\n",
      "Requirement already satisfied: python-dateutil>=2.7 in /Users/nikola/miniforge3/lib/python3.10/site-packages (from matplotlib->arc==1.0) (2.9.0.post0)\n",
      "Requirement already satisfied: pytz>=2020.1 in /Users/nikola/miniforge3/lib/python3.10/site-packages (from pandas->arc==1.0) (2024.1)\n",
      "Requirement already satisfied: tzdata>=2022.7 in /Users/nikola/miniforge3/lib/python3.10/site-packages (from pandas->arc==1.0) (2024.1)\n",
      "Requirement already satisfied: seaborn in /Users/nikola/miniforge3/lib/python3.10/site-packages (from pingouin->arc==1.0) (0.13.2)\n",
      "Requirement already satisfied: statsmodels in /Users/nikola/miniforge3/lib/python3.10/site-packages (from pingouin->arc==1.0) (0.14.2)\n",
      "Requirement already satisfied: scikit-learn in /Users/nikola/miniforge3/lib/python3.10/site-packages (from pingouin->arc==1.0) (1.5.1)\n",
      "Requirement already satisfied: pandas-flavor in /Users/nikola/miniforge3/lib/python3.10/site-packages (from pingouin->arc==1.0) (0.6.0)\n",
      "Requirement already satisfied: tabulate in /Users/nikola/miniforge3/lib/python3.10/site-packages (from pingouin->arc==1.0) (0.9.0)\n",
      "Requirement already satisfied: annotated-types>=0.4.0 in /Users/nikola/miniforge3/lib/python3.10/site-packages (from pydantic->arc==1.0) (0.7.0)\n",
      "Requirement already satisfied: pydantic-core==2.20.1 in /Users/nikola/miniforge3/lib/python3.10/site-packages (from pydantic->arc==1.0) (2.20.1)\n",
      "Requirement already satisfied: typing-extensions>=4.6.1 in /Users/nikola/miniforge3/lib/python3.10/site-packages (from pydantic->arc==1.0) (4.12.2)\n",
      "Requirement already satisfied: iniconfig in /Users/nikola/miniforge3/lib/python3.10/site-packages (from pytest->arc==1.0) (2.0.0)\n",
      "Requirement already satisfied: pluggy<2.0,>=1.5 in /Users/nikola/miniforge3/lib/python3.10/site-packages (from pytest->arc==1.0) (1.5.0)\n",
      "Requirement already satisfied: exceptiongroup>=1.0.0rc8 in /Users/nikola/miniforge3/lib/python3.10/site-packages (from pytest->arc==1.0) (1.2.1)\n",
      "Requirement already satisfied: tomli>=1 in /Users/nikola/miniforge3/lib/python3.10/site-packages (from pytest->arc==1.0) (2.0.1)\n",
      "Requirement already satisfied: six>=1.5 in /Users/nikola/miniforge3/lib/python3.10/site-packages (from python-dateutil>=2.7->matplotlib->arc==1.0) (1.16.0)\n",
      "Requirement already satisfied: xarray in /Users/nikola/miniforge3/lib/python3.10/site-packages (from pandas-flavor->pingouin->arc==1.0) (2024.6.0)\n",
      "Requirement already satisfied: joblib>=1.2.0 in /Users/nikola/miniforge3/lib/python3.10/site-packages (from scikit-learn->pingouin->arc==1.0) (1.4.2)\n",
      "Requirement already satisfied: threadpoolctl>=3.1.0 in /Users/nikola/miniforge3/lib/python3.10/site-packages (from scikit-learn->pingouin->arc==1.0) (3.5.0)\n",
      "Requirement already satisfied: patsy>=0.5.6 in /Users/nikola/miniforge3/lib/python3.10/site-packages (from statsmodels->pingouin->arc==1.0) (0.5.6)\n",
      "Note: you may need to restart the kernel to use updated packages.\n"
     ]
    }
   ],
   "source": [
    "%pip install --upgrade git+https://github.com/milosen/arc.git"
   ]
  },
  {
   "cell_type": "markdown",
   "id": "8c650cf2-9c82-4215-8538-340acc7d1735",
   "metadata": {},
   "source": [
    "## Basic Types\n",
    "\n",
    "There are two types of objects we deal with in ARC:\n",
    "\n",
    "An **Element** is any linguistic object of interest. In our case, `Phoneme`, `Syllable`, `Word`, and `Stream` are Elements. These objects can consist of other elements, in a dictionary-style fashion, i.e. `Word`, and `Stream` consist of `Syllable`s, a `Syllable` consists of `Phoneme`s, and `Phonemes` are atomic. If an Element consists of multiple sub-elements, like in the case of a Syllable, the sub-elements can repeat, e.g. a Phoneme can repeat multiple times inside a Syllable. Elements can be part of a Register, which can be thought of as a corpus of Elements.  Like in real corpora, every element can be annotated, hence it has an `.info` field, which can hold arbitrary annotations in dictionary format. Elements in a Register *don't repeat*.\n",
    "\n",
    "A **Register** is essentially an ordered set with some extra functionality. We use this container type to create ordered collections of Elements that do not repeat, i.e. ordered, annotated sets of Phonemes, Syllables, and Words (like little corpora). Since every element in the Register has a unique string representation, it can be hashed and thus found quickly in memory. The `Lexicon` type is implemented as a Register of words, as well as any collection of Phonemes, Syllables or Words we use to generate higher level elements.\n",
    "\n",
    "In summary\n",
    "- `Phoneme`, `Syllable`, `Word` are subclasses of `Element`\n",
    "- `Stream` is the same as a `Word` just longer, since it consists of repeatable `Syllable` objects\n",
    "- whenever you see multiple elements, e.g. a `phonemes` object, its a `Register`\n",
    "- `Lexicon` is a special `Register` of `Word`s"
   ]
  },
  {
   "cell_type": "markdown",
   "id": "ffb4f9a4-e047-435a-b364-b71ad4119ca2",
   "metadata": {},
   "source": [
    "## Phonemes\n",
    "Phonemes are the atomic unit of the ARC-Typesystem and built the basis for constructing other types like Syllables and Words. \n",
    "To enjoy the full functionolity of ARC, you'll need Phonemes annotated with their phonetic features. Luckily, ARC comes with an extensive corpus of Phonemes with phonetic features.\n",
    "Let's load them and see what they look like."
   ]
  },
  {
   "cell_type": "code",
   "execution_count": 45,
   "id": "b38768ae-6d3a-43cd-943f-394683b7962b",
   "metadata": {},
   "outputs": [
    {
     "name": "stdout",
     "output_type": "stream",
     "text": [
      "k͡p|ɡ͡b|c|ɡ|k|q|ɖ|ɟ|ɠ|ɢ|... (5275 elements total)\n"
     ]
    }
   ],
   "source": [
    "from arc import load_phonemes\n",
    "phonemes = load_phonemes()\n",
    "print(phonemes)"
   ]
  },
  {
   "cell_type": "markdown",
   "id": "9c11c164-8de3-4604-97cc-7a6f405161c5",
   "metadata": {},
   "source": [
    "The `phonemes` variable is a Collection of Phoneme-Objects, more specifically a `Register`. What you see when you print any Register is a short summary of the first elements.\n",
    "You can treat the Register like most Python collection types, meaning you can access elements, iterate over it etc.\n",
    "\n",
    "> Note: Internally, `Register`s are `OrderedDict`s (with some extra convenience methods). Essentially, you can treat it like both Python builtin types `Dict`and `List`.\n",
    "\n",
    "Let's see that in action."
   ]
  },
  {
   "cell_type": "code",
   "execution_count": 46,
   "id": "8939c5c5",
   "metadata": {},
   "outputs": [
    {
     "name": "stdout",
     "output_type": "stream",
     "text": [
      "We can reference elements of a Corpus by position/index: k͡p , or by its string representation: k\n"
     ]
    }
   ],
   "source": [
    "print(\"We can reference elements of a Corpus by position/index:\", phonemes[0], \", or by its string representation:\", phonemes[\"k\"])"
   ]
  },
  {
   "cell_type": "markdown",
   "id": "16c7d30f",
   "metadata": {},
   "source": [
    "Internally, Elements are `Dict`-like objects, more specifically, [Pydantic](https://docs.pydantic.dev/latest/) types."
   ]
  },
  {
   "cell_type": "code",
   "execution_count": 47,
   "id": "4db8949b",
   "metadata": {},
   "outputs": [
    {
     "data": {
      "text/plain": [
       "Phoneme(id='k', info={'features': ['-', '-', '+', '-', '-', '-', '-', '0', '-', '-', '-', '-', '-', '0', '-', '+', '-', '+', '-', '0', '-']})"
      ]
     },
     "execution_count": 47,
     "metadata": {},
     "output_type": "execute_result"
    }
   ],
   "source": [
    "phonemes[\"k\"]"
   ]
  },
  {
   "cell_type": "markdown",
   "id": "5d7efbca-c661-4510-a0f7-694e5926e12b",
   "metadata": {},
   "source": [
    "Annotations can be referenced via the `.info` property, which can hold arbitrary dictionary data"
   ]
  },
  {
   "cell_type": "code",
   "execution_count": 48,
   "id": "b540a558-6740-4873-aa82-943128df52d0",
   "metadata": {},
   "outputs": [
    {
     "data": {
      "text/plain": [
       "{'features': ['-',\n",
       "  '-',\n",
       "  '+',\n",
       "  '-',\n",
       "  '-',\n",
       "  '-',\n",
       "  '-',\n",
       "  '0',\n",
       "  '-',\n",
       "  '-',\n",
       "  '-',\n",
       "  '-',\n",
       "  '-',\n",
       "  '0',\n",
       "  '-',\n",
       "  '+',\n",
       "  '-',\n",
       "  '+',\n",
       "  '-',\n",
       "  '0',\n",
       "  '-']}"
      ]
     },
     "execution_count": 48,
     "metadata": {},
     "output_type": "execute_result"
    }
   ],
   "source": [
    "phonemes[\"k\"].info"
   ]
  },
  {
   "cell_type": "markdown",
   "id": "2f26a0de",
   "metadata": {},
   "source": [
    "Phoneme features can be hard to interpret, so you can also get features directly, e.g. the \"is labial\" binary feature, called `lab`:"
   ]
  },
  {
   "cell_type": "code",
   "execution_count": 49,
   "id": "35bff672",
   "metadata": {},
   "outputs": [
    {
     "data": {
      "text/plain": [
       "False"
      ]
     },
     "execution_count": 49,
     "metadata": {},
     "output_type": "execute_result"
    }
   ],
   "source": [
    "phonemes[\"k\"].get_binary_feature(\"lab\")"
   ]
  },
  {
   "cell_type": "markdown",
   "id": "83a8b887-ea95-4c32-8289-1e5504754cf9",
   "metadata": {},
   "source": [
    "Finally, you can get some help on which features the binary feature vector holds:"
   ]
  },
  {
   "cell_type": "code",
   "execution_count": 50,
   "id": "adce190a",
   "metadata": {},
   "outputs": [
    {
     "name": "stdout",
     "output_type": "stream",
     "text": [
      "Help on method get_binary_feature in module arc.types.phoneme:\n",
      "\n",
      "get_binary_feature(label: Literal['syl', 'son', 'cons', 'cont', 'delrel', 'lat', 'nas', 'strid', 'voi', 'sg', 'cg', 'ant', 'cor', 'distr', 'lab', 'hi', 'lo', 'back', 'round', 'tense', 'long']) method of arc.types.phoneme.Phoneme instance\n",
      "\n"
     ]
    }
   ],
   "source": [
    "help(phonemes[\"k\"].get_binary_feature)"
   ]
  },
  {
   "cell_type": "markdown",
   "id": "d053135c-8d52-47c0-8557-1edae8041d2a",
   "metadata": {},
   "source": [
    "## Registers\n",
    "\n",
    "While Registers in ARC print as compact summaries of there contents, they can be arbitrarily complex data structures."
   ]
  },
  {
   "cell_type": "code",
   "execution_count": 51,
   "id": "2abc4aa7-2c00-4f29-a235-2400a2b4bd19",
   "metadata": {},
   "outputs": [
    {
     "name": "stdout",
     "output_type": "stream",
     "text": [
      "This is the print output: k͡p|ɡ͡b|c|ɡ|k|q|ɖ|ɟ|ɠ|ɢ|... (5275 elements total)\n",
      "\n",
      "These are the first 2 entries of the Phonemes Register:\n",
      "\n",
      "Phoneme(id='k͡p', info={'features': ['-', '-', '+', '-', '-', '-', '-', '0', '-', '-', '-', '0', '-', '0', '+', '+', '-', '0', '-', '0', '-']})\n",
      "\n",
      "Phoneme(id='ɡ͡b', info={'features': ['-', '-', '+', '-', '-', '-', '-', '0', '+', '-', '-', '0', '-', '0', '+', '+', '-', '0', '-', '0', '-']})\n",
      "\n"
     ]
    }
   ],
   "source": [
    "print(\"This is the print output:\", phonemes, end=\"\\n\\n\")\n",
    "\n",
    "from pprint import pprint\n",
    "print(\"These are the first 2 entries of the Phonemes Register:\", end=\"\\n\\n\")\n",
    "for ph in phonemes[:2]:\n",
    "    pprint(ph)\n",
    "    print(\"\")"
   ]
  },
  {
   "cell_type": "markdown",
   "id": "a7a4bfe6-c816-4a9c-9bc7-247db67fa32c",
   "metadata": {},
   "source": [
    "Regardless of the contents, Elements and Registers are always JSON serializable, as long as they are valid (which is checked by Pydantic at initialization):"
   ]
  },
  {
   "cell_type": "code",
   "execution_count": 52,
   "id": "fbcfb029-2e21-4841-bc84-9aecdb3ecfa5",
   "metadata": {},
   "outputs": [
    {
     "name": "stdout",
     "output_type": "stream",
     "text": [
      "{\"k͡p\": {\"id\": \"k͡p\", \"info\": {\"features\": [\"-\", \"-\", \"+\", \"-\", \"-\", \"-\", \"-\", \"...\n"
     ]
    }
   ],
   "source": [
    "print(phonemes.to_json()[:80] + \"...\")"
   ]
  },
  {
   "cell_type": "markdown",
   "id": "5bc101a9-5470-4222-aa62-11230c5797f6",
   "metadata": {},
   "source": [
    "... which means they can be written to file and read later as a register. The Register container type has methods for reading and writing:"
   ]
  },
  {
   "cell_type": "code",
   "execution_count": 53,
   "id": "39ed742a-a23f-4522-bb17-c21df7642ce7",
   "metadata": {},
   "outputs": [
    {
     "name": "stdout",
     "output_type": "stream",
     "text": [
      "k͡p|ɡ͡b|c|ɡ|k|q|ɖ|ɟ|ɠ|ɢ|... (5275 elements total)\n"
     ]
    }
   ],
   "source": [
    "import os\n",
    "\n",
    "os.makedirs(\"results\", exist_ok=True)\n",
    "phonemes.save(os.path.join(\"results\", \"test_phonemes.json\"))\n",
    "loaded_phonemes = load_phonemes(os.path.join(\"results\", \"test_phonemes.json\"))\n",
    "print(loaded_phonemes)"
   ]
  },
  {
   "cell_type": "markdown",
   "id": "69c94d59-f484-4728-ae83-2b0451266f75",
   "metadata": {},
   "source": [
    "## Syllables\n",
    "Our first composite type is the `Syllable`, consisting of a list of `Phoneme`s. Let's make a collection of syllables, that follow the `cV` pattern, meaning they consist of a single-character phoneme `c` followed by a long vowel `V`."
   ]
  },
  {
   "cell_type": "code",
   "execution_count": 54,
   "id": "756b70c4-3c0b-4373-aac7-5095cddf7b2a",
   "metadata": {},
   "outputs": [
    {
     "name": "stdout",
     "output_type": "stream",
     "text": [
      "Help on function make_syllables in module arc.core.syllable:\n",
      "\n",
      "make_syllables(phonemes: ~RegisterType, phoneme_pattern: str = 'cV', unigram_control: bool = True, language_control: bool = True, language_alpha: Optional[float] = 0.05, from_format: Literal['ipa', 'xsampa'] = 'xsampa', lang: str = 'deu') -> ~RegisterType\n",
      "\n"
     ]
    }
   ],
   "source": [
    "from arc.core.syllable import make_syllables\n",
    "help(make_syllables)"
   ]
  },
  {
   "cell_type": "code",
   "execution_count": 55,
   "id": "5a857502-e57a-4aa9-9577-cbf8f3d52ce0",
   "metadata": {},
   "outputs": [
    {
     "name": "stdout",
     "output_type": "stream",
     "text": [
      "ɡaː|ɡiː|ɡyː|ɡɛː|kaː|koː|kuː|køː|kɛː|baː|... (76 elements total)\n"
     ]
    }
   ],
   "source": [
    "syllables = make_syllables(phonemes, phoneme_pattern=\"cV\")\n",
    "print(syllables)"
   ]
  },
  {
   "cell_type": "markdown",
   "id": "331227cd",
   "metadata": {},
   "source": [
    "They behave pretty much like Phonemes."
   ]
  },
  {
   "cell_type": "code",
   "execution_count": 56,
   "id": "fb75600e",
   "metadata": {},
   "outputs": [
    {
     "name": "stdout",
     "output_type": "stream",
     "text": [
      "ɡaː ɡiː\n"
     ]
    },
    {
     "data": {
      "text/plain": [
       "(Syllable(id='ɡaː', info={'binary_features': [0, 1, 1, 0, 0, 0, 0, 0, 1, 1, 0, 1, 0, 1, 1], 'phonotactic_features': [['plo', 'oth'], ['a']], 'freq': 85, 'prob': 8.41048e-05}, phonemes=[Phoneme(id='ɡ', info={'features': ['-', '-', '+', '-', '-', '-', '-', '0', '+', '-', '-', '-', '-', '0', '-', '+', '-', '+', '-', '0', '-']}), Phoneme(id='aː', info={'features': ['+', '+', '-', '+', '-', '-', '-', '0', '+', '-', '-', '-', '-', '-', '-', '-', '+', '+', '-', '+', '+']})]),\n",
       " Syllable(id='ɡiː', info={'binary_features': [0, 1, 1, 0, 0, 0, 0, 0, 1, 0, 1, 0, 0, 1, 1], 'phonotactic_features': [['plo', 'oth'], ['i']], 'freq': 61, 'prob': 6.03576e-05}, phonemes=[Phoneme(id='ɡ', info={'features': ['-', '-', '+', '-', '-', '-', '-', '0', '+', '-', '-', '-', '-', '0', '-', '+', '-', '+', '-', '0', '-']}), Phoneme(id='iː', info={'features': ['+', '+', '-', '+', '-', '-', '-', '0', '+', '-', '-', '-', '-', '-', '-', '+', '-', '-', '-', '+', '+']})]))"
      ]
     },
     "execution_count": 56,
     "metadata": {},
     "output_type": "execute_result"
    }
   ],
   "source": [
    "print(syllables[\"ɡaː\"], syllables[1])\n",
    "syllables[\"ɡaː\"], syllables[1]"
   ]
  },
  {
   "cell_type": "markdown",
   "id": "81a15921",
   "metadata": {},
   "source": [
    "... except that they are further composed of phonemes."
   ]
  },
  {
   "cell_type": "markdown",
   "id": "62b55802",
   "metadata": {},
   "source": [
    "You can get the sub-elements of any composite element as a list:"
   ]
  },
  {
   "cell_type": "code",
   "execution_count": 57,
   "id": "456c6079",
   "metadata": {},
   "outputs": [
    {
     "data": {
      "text/plain": [
       "[Phoneme(id='ɡ', info={'features': ['-', '-', '+', '-', '-', '-', '-', '0', '+', '-', '-', '-', '-', '0', '-', '+', '-', '+', '-', '0', '-']}),\n",
       " Phoneme(id='aː', info={'features': ['+', '+', '-', '+', '-', '-', '-', '0', '+', '-', '-', '-', '-', '-', '-', '-', '+', '+', '-', '+', '+']})]"
      ]
     },
     "execution_count": 57,
     "metadata": {},
     "output_type": "execute_result"
    }
   ],
   "source": [
    "syllables[\"ɡaː\"].get_elements()"
   ]
  },
  {
   "cell_type": "markdown",
   "id": "5d441188",
   "metadata": {},
   "source": [
    "Finally, you can iterate over both, the Elements of a Register and over the Sub-Elements of an Element:"
   ]
  },
  {
   "cell_type": "code",
   "execution_count": 58,
   "id": "44b8027c",
   "metadata": {},
   "outputs": [
    {
     "name": "stdout",
     "output_type": "stream",
     "text": [
      "Syllable ɡaː consists of phonemes ɡ aː \n",
      "Syllable ɡiː consists of phonemes ɡ iː \n"
     ]
    }
   ],
   "source": [
    "for syllable in syllables[:2]:\n",
    "    print(\"Syllable\", syllable, f\"consists of phonemes \", end=\"\") \n",
    "    for phoneme in syllable:\n",
    "        print(phoneme, end=\" \")\n",
    "    print(\"\")"
   ]
  },
  {
   "cell_type": "markdown",
   "id": "fbf91d4c-f5d4-482c-93e5-dc3d95bde840",
   "metadata": {},
   "source": [
    "## Export to SSML\n",
    "Once we are done making syllables, we can export them to Speech Synthesis Markup Language (SSML) for later reference."
   ]
  },
  {
   "cell_type": "code",
   "execution_count": 59,
   "id": "7837841d-8d86-4e6e-9e86-7a7497480444",
   "metadata": {},
   "outputs": [
    {
     "name": "stdout",
     "output_type": "stream",
     "text": [
      "Done\n"
     ]
    }
   ],
   "source": [
    "from arc.io import export_speech_synthesiser\n",
    "export_speech_synthesiser(syllables, syllables_dir=\"results/ssml\")"
   ]
  },
  {
   "cell_type": "markdown",
   "id": "734630a5-f0f0-46fb-8848-c9324b802cc2",
   "metadata": {},
   "source": [
    "## Words\n",
    "`Word`s are made out of `Syllable`s, same as before when we made syllables from phonemes.\n",
    "\n",
    "Since one of ARC's main features is rythmicity control, our `make_words` function will only create words that have minimum overlap of phonotactic features. By default, this function generates 10000 words, but you can change that with the `n_words` option. With 10000 words, this should run fairly quickly, however, when you set the number higher you may want to also set the `progress_bar=True` flag in the function arguments."
   ]
  },
  {
   "cell_type": "code",
   "execution_count": 60,
   "id": "4e32d88d-c32c-47a8-91f9-373c6b0b6020",
   "metadata": {
    "is_executing": true
   },
   "outputs": [
    {
     "name": "stderr",
     "output_type": "stream",
     "text": [
      "100%|██████████████████████████████████████████████████████████████████████████████████████████████████████████▋| 9974/10000 [00:09<00:00, 257.81it/s]"
     ]
    },
    {
     "name": "stdout",
     "output_type": "stream",
     "text": [
      "bigram control...\n",
      "trigram control...\n",
      "positional control...\n"
     ]
    },
    {
     "name": "stderr",
     "output_type": "stream",
     "text": [
      "100%|██████████████████████████████████████████████████████████████████████████████████████████████████████████| 10000/10000 [00:20<00:00, 486.81it/s]"
     ]
    },
    {
     "name": "stdout",
     "output_type": "stream",
     "text": [
      "huːʃoːbyː|tuːfoːheː|ʃaːbiːhoː|høːtuːfyː|vaːluːkoː|toːfaːheː|deːfoːhøː|zuːheːbiː|loːɡaːfyː|fiːroːkuː|... (1828 elements total)\n"
     ]
    },
    {
     "name": "stderr",
     "output_type": "stream",
     "text": [
      "\n"
     ]
    }
   ],
   "source": [
    "from arc import make_words\n",
    "words = make_words(syllables, n_words=10_000, progress_bar=True)\n",
    "print(words)"
   ]
  },
  {
   "cell_type": "markdown",
   "id": "8356c3fa-4f74-4d55-b421-9d689e762e48",
   "metadata": {},
   "source": [
    "Words are automatically filtered based on the language, e.g. their phoneme position statistics (default: german). Here is the full list of options for the make_words function:"
   ]
  },
  {
   "cell_type": "code",
   "execution_count": 61,
   "id": "a76f5094-73bc-4ca9-9831-75791b6d25be",
   "metadata": {},
   "outputs": [
    {
     "name": "stdout",
     "output_type": "stream",
     "text": [
      "Help on function make_words in module arc.core.word:\n",
      "\n",
      "make_words(syllables: ~RegisterType, num_syllables=3, bigram_control=True, bigram_alpha=None, trigram_control=True, trigram_alpha=None, positional_control=True, phonotactic_control=True, n_look_back=2, n_words=10000, max_tries=100000, progress_bar: bool = True) -> ~RegisterType\n",
      "\n"
     ]
    }
   ],
   "source": [
    "help(make_words)"
   ]
  },
  {
   "cell_type": "markdown",
   "id": "3052c084-76a8-45b5-8f44-e1e509716cbb",
   "metadata": {},
   "source": [
    "And some info on the resulting words register:"
   ]
  },
  {
   "cell_type": "code",
   "execution_count": 62,
   "id": "5546f1ec-89b7-4275-9f3c-22681daa0fe1",
   "metadata": {},
   "outputs": [
    {
     "name": "stdout",
     "output_type": "stream",
     "text": [
      "phoneme_feature_labels\n",
      "syllable_feature_labels\n",
      "syllable_type\n",
      "bigram_pval\n",
      "bigrams_count\n",
      "trigram_pval\n",
      "trigrams_count\n",
      "\n",
      "For example, the type of syllables used to create the words is 'cV'\n"
     ]
    }
   ],
   "source": [
    "for key in words.info:\n",
    "    print(key)\n",
    "print(\"\")\n",
    "print(f\"For example, the type of syllables used to create the words is '{words.info['syllable_type']}'\")"
   ]
  },
  {
   "cell_type": "markdown",
   "id": "5896e8bf-1b21-4fd1-b052-8c1d97552694",
   "metadata": {},
   "source": [
    "## Bonus functions\n",
    "\n",
    "We can always get a random subsample of a Register by running:"
   ]
  },
  {
   "cell_type": "code",
   "execution_count": 63,
   "id": "a430f124-cb84-42b4-82b7-29e7cd112bc9",
   "metadata": {},
   "outputs": [
    {
     "name": "stdout",
     "output_type": "stream",
     "text": [
      "vaːreːkuː|nyːfaːkuː|roːfaːkuː|ʃaːpoːheː|kuːraːfyː|ɡiːfoːnyː|vaːnuːkoː|biːzuːhøː|kuːniːfaː|koːryːvaː\n"
     ]
    }
   ],
   "source": [
    "words_subset = words.get_subset(10)\n",
    "print(words_subset)"
   ]
  },
  {
   "cell_type": "code",
   "execution_count": 64,
   "id": "8275c803-2730-4976-ac80-ecaa80e6b676",
   "metadata": {},
   "outputs": [],
   "source": [
    "words.save(\"results/words.json\")"
   ]
  },
  {
   "cell_type": "markdown",
   "id": "060fbe3e-b21d-437e-b1c3-b2588b75e7c0",
   "metadata": {},
   "source": [
    "This concludes our first tutorial. \n",
    "We've made `Syllable`s from `Phonemes`s and `Word`s from `Syllable`s and applied filters to them. \n",
    "Finally, we saved the generated words to a json file. \n",
    "In the other tutorial, we will pick up where we left and load the saved words to generate a `Lexicon`, a Register of `Word`s with specific phonotactic requirements. Later, we will use Lexicons to generate different types of streams."
   ]
  },
  {
   "cell_type": "code",
   "execution_count": null,
   "id": "3d28ff53-a309-428c-997a-c69955502184",
   "metadata": {},
   "outputs": [],
   "source": []
  }
 ],
 "metadata": {
  "kernelspec": {
   "display_name": "Python 3 (ipykernel)",
   "language": "python",
   "name": "python3"
  },
  "language_info": {
   "codemirror_mode": {
    "name": "ipython",
    "version": 3
   },
   "file_extension": ".py",
   "mimetype": "text/x-python",
   "name": "python",
   "nbconvert_exporter": "python",
   "pygments_lexer": "ipython3",
   "version": "3.10.12"
  }
 },
 "nbformat": 4,
 "nbformat_minor": 5
}
