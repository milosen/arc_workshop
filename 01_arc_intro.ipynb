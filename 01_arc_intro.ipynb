{
 "cells": [
  {
   "cell_type": "markdown",
   "id": "d6dcef0d-76e5-4330-a879-ab8ff03acbd8",
   "metadata": {},
   "source": [
    "# ARC Typesystem\n",
    "In this tutorial, you will learn the basic data structures of the ARC Typesystem, as well as saving and load with the core ARC-Types."
   ]
  },
  {
   "cell_type": "markdown",
   "id": "0e275300-27da-484a-8dbe-92c2c3df27a4",
   "metadata": {},
   "source": [
    "> ⚠️ We recommend using a virtual environment\n",
    "\n",
    "> ⚠️ If you use a virtual environment, make sure you use the right kernel for this notebook. You can usually select it in the top right corner. If your environment is not in the list, you have to add the ipython kernel from the environment like so:\n",
    "> 1. Activate virtual environment in terminal\n",
    "> 2. Run `pip install ipykernel`\n",
    "> 3. Run `python -m ipykernel install --user --name arc --display-name \"Python (ARC)\"`\n",
    "> 4. Reload this page"
   ]
  },
  {
   "cell_type": "code",
   "execution_count": 44,
   "id": "68a9a4b5-16aa-4c97-be14-ccde1dee7c3d",
   "metadata": {},
   "outputs": [
    {
     "name": "stdout",
     "output_type": "stream",
     "text": [
      "Collecting git+https://github.com/milosen/arc.git\n",
      "  Cloning https://github.com/milosen/arc.git to /private/var/folders/n1/bxdrmv296493f6tbg9v8pjnh0000gn/T/pip-req-build-qkr5cw7n\n",
      "  Running command git clone --filter=blob:none --quiet https://github.com/milosen/arc.git /private/var/folders/n1/bxdrmv296493f6tbg9v8pjnh0000gn/T/pip-req-build-qkr5cw7n\n",
      "  Resolved https://github.com/milosen/arc.git to commit 7c80f8d820e0f0241d860e90cd76e23fdcbd9b37\n",
      "  Preparing metadata (setup.py) ... \u001b[?25ldone\n",
      "\u001b[?25hRequirement already satisfied: pandas in /Users/nikola/miniforge3/lib/python3.10/site-packages (from arc==1.0) (2.2.2)\n",
      "Requirement already satisfied: numpy in /Users/nikola/miniforge3/lib/python3.10/site-packages (from arc==1.0) (1.26.4)\n",
      "Requirement already satisfied: scipy in /Users/nikola/miniforge3/lib/python3.10/site-packages (from arc==1.0) (1.13.1)\n",
      "Requirement already satisfied: tqdm in /Users/nikola/miniforge3/lib/python3.10/site-packages (from arc==1.0) (4.66.1)\n",
      "Requirement already satisfied: pydantic in /Users/nikola/miniforge3/lib/python3.10/site-packages (from arc==1.0) (2.8.2)\n",
      "Requirement already satisfied: pytest in /Users/nikola/miniforge3/lib/python3.10/site-packages (from arc==1.0) (8.2.1)\n",
      "Requirement already satisfied: pingouin in /Users/nikola/miniforge3/lib/python3.10/site-packages (from arc==1.0) (0.5.4)\n",
      "Requirement already satisfied: matplotlib in /Users/nikola/miniforge3/lib/python3.10/site-packages (from arc==1.0) (3.9.0)\n",
      "Requirement already satisfied: contourpy>=1.0.1 in /Users/nikola/miniforge3/lib/python3.10/site-packages (from matplotlib->arc==1.0) (1.2.1)\n",
      "Requirement already satisfied: cycler>=0.10 in /Users/nikola/miniforge3/lib/python3.10/site-packages (from matplotlib->arc==1.0) (0.12.1)\n",
      "Requirement already satisfied: fonttools>=4.22.0 in /Users/nikola/miniforge3/lib/python3.10/site-packages (from matplotlib->arc==1.0) (4.52.1)\n",
      "Requirement already satisfied: kiwisolver>=1.3.1 in /Users/nikola/miniforge3/lib/python3.10/site-packages (from matplotlib->arc==1.0) (1.4.5)\n",
      "Requirement already satisfied: packaging>=20.0 in /Users/nikola/miniforge3/lib/python3.10/site-packages (from matplotlib->arc==1.0) (23.1)\n",
      "Requirement already satisfied: pillow>=8 in /Users/nikola/miniforge3/lib/python3.10/site-packages (from matplotlib->arc==1.0) (10.3.0)\n",
      "Requirement already satisfied: pyparsing>=2.3.1 in /Users/nikola/miniforge3/lib/python3.10/site-packages (from matplotlib->arc==1.0) (3.1.2)\n",
      "Requirement already satisfied: python-dateutil>=2.7 in /Users/nikola/miniforge3/lib/python3.10/site-packages (from matplotlib->arc==1.0) (2.9.0.post0)\n",
      "Requirement already satisfied: pytz>=2020.1 in /Users/nikola/miniforge3/lib/python3.10/site-packages (from pandas->arc==1.0) (2024.1)\n",
      "Requirement already satisfied: tzdata>=2022.7 in /Users/nikola/miniforge3/lib/python3.10/site-packages (from pandas->arc==1.0) (2024.1)\n",
      "Requirement already satisfied: seaborn in /Users/nikola/miniforge3/lib/python3.10/site-packages (from pingouin->arc==1.0) (0.13.2)\n",
      "Requirement already satisfied: statsmodels in /Users/nikola/miniforge3/lib/python3.10/site-packages (from pingouin->arc==1.0) (0.14.2)\n",
      "Requirement already satisfied: scikit-learn in /Users/nikola/miniforge3/lib/python3.10/site-packages (from pingouin->arc==1.0) (1.5.1)\n",
      "Requirement already satisfied: pandas-flavor in /Users/nikola/miniforge3/lib/python3.10/site-packages (from pingouin->arc==1.0) (0.6.0)\n",
      "Requirement already satisfied: tabulate in /Users/nikola/miniforge3/lib/python3.10/site-packages (from pingouin->arc==1.0) (0.9.0)\n",
      "Requirement already satisfied: annotated-types>=0.4.0 in /Users/nikola/miniforge3/lib/python3.10/site-packages (from pydantic->arc==1.0) (0.7.0)\n",
      "Requirement already satisfied: pydantic-core==2.20.1 in /Users/nikola/miniforge3/lib/python3.10/site-packages (from pydantic->arc==1.0) (2.20.1)\n",
      "Requirement already satisfied: typing-extensions>=4.6.1 in /Users/nikola/miniforge3/lib/python3.10/site-packages (from pydantic->arc==1.0) (4.12.2)\n",
      "Requirement already satisfied: iniconfig in /Users/nikola/miniforge3/lib/python3.10/site-packages (from pytest->arc==1.0) (2.0.0)\n",
      "Requirement already satisfied: pluggy<2.0,>=1.5 in /Users/nikola/miniforge3/lib/python3.10/site-packages (from pytest->arc==1.0) (1.5.0)\n",
      "Requirement already satisfied: exceptiongroup>=1.0.0rc8 in /Users/nikola/miniforge3/lib/python3.10/site-packages (from pytest->arc==1.0) (1.2.1)\n",
      "Requirement already satisfied: tomli>=1 in /Users/nikola/miniforge3/lib/python3.10/site-packages (from pytest->arc==1.0) (2.0.1)\n",
      "Requirement already satisfied: six>=1.5 in /Users/nikola/miniforge3/lib/python3.10/site-packages (from python-dateutil>=2.7->matplotlib->arc==1.0) (1.16.0)\n",
      "Requirement already satisfied: xarray in /Users/nikola/miniforge3/lib/python3.10/site-packages (from pandas-flavor->pingouin->arc==1.0) (2024.6.0)\n",
      "Requirement already satisfied: joblib>=1.2.0 in /Users/nikola/miniforge3/lib/python3.10/site-packages (from scikit-learn->pingouin->arc==1.0) (1.4.2)\n",
      "Requirement already satisfied: threadpoolctl>=3.1.0 in /Users/nikola/miniforge3/lib/python3.10/site-packages (from scikit-learn->pingouin->arc==1.0) (3.5.0)\n",
      "Requirement already satisfied: patsy>=0.5.6 in /Users/nikola/miniforge3/lib/python3.10/site-packages (from statsmodels->pingouin->arc==1.0) (0.5.6)\n",
      "Note: you may need to restart the kernel to use updated packages.\n"
     ]
    }
   ],
   "source": [
    "%pip install --upgrade git+https://github.com/milosen/arc.git"
   ]
  },
  {
   "cell_type": "markdown",
   "id": "8c650cf2-9c82-4215-8538-340acc7d1735",
   "metadata": {},
   "source": [
    "## Basic Types\n",
    "\n",
    "There are two types of objects we deal with in ARC:\n",
    "\n",
    "An **Element** is any linguistic object of interest. In our case, `Phoneme`, `Syllable`, `Word`, and `Stream` are Elements. These objects can consist of other elements, in a dictionary-style fashion, i.e. `Word`, and `Stream` consist of `Syllable`s, a `Syllable` consists of `Phoneme`s, and `Phonemes` are atomic. If an Element consists of multiple sub-elements, like in the case of a Syllable, the sub-elements can repeat, e.g. a Phoneme can repeat multiple times inside a Syllable. Elements can be part of a Register, which can be thought of as a corpus of Elements.  Like in real corpora, every element can be annotated, hence it has an `.info` field, which can hold arbitrary annotations in dictionary format. Elements in a Register *don't repeat*.\n",
    "\n",
    "A **Register** is essentially an ordered set with some extra functionality. We use this container type to create ordered collections of Elements that do not repeat, i.e. ordered, annotated sets of Phonemes, Syllables, and Words (like little corpora). Since every element in the Register has a unique string representation, it can be hashed and thus found quickly in memory. The `Lexicon` type is implemented as a Register of words, as well as any collection of Phonemes, Syllables or Words we use to generate higher level elements.\n",
    "\n",
    "In summary\n",
    "- `Phoneme`, `Syllable`, `Word` are subclasses of `Element`\n",
    "- `Stream` is the same as a `Word` just longer, since it consists of repeatable `Syllable` objects\n",
    "- whenever you see multiple elements, e.g. a `phonemes` object, its a `Register`\n",
    "- `Lexicon` is a special `Register` of `Word`s"
   ]
  },
  {
   "cell_type": "markdown",
   "id": "ffb4f9a4-e047-435a-b364-b71ad4119ca2",
   "metadata": {},
   "source": [
    "## Phonemes\n",
    "Phonemes are the atomic unit of the ARC-Typesystem and built the basis for constructing other types like Syllables and Words. \n",
    "To enjoy the full functionolity of ARC, you'll need Phonemes annotated with their phonetic features. Luckily, ARC comes with an extensive corpus of Phonemes with phonetic features.\n",
    "Let's load them and see what they look like."
   ]
  },
  {
   "cell_type": "code",
   "execution_count": 1,
   "id": "40897af7-61dd-4020-b0d0-09591856814f",
   "metadata": {},
   "outputs": [
    {
     "name": "stdout",
     "output_type": "stream",
     "text": [
      "Help on function load_phonemes in module arc.io:\n",
      "\n",
      "load_phonemes(path_to_json: Union[str, os.PathLike, NoneType] = None, language_control=False) -> ~RegisterType\n",
      "\n"
     ]
    }
   ],
   "source": [
    "from arc import load_phonemes\n",
    "help(load_phonemes)"
   ]
  },
  {
   "cell_type": "code",
   "execution_count": 8,
   "id": "b38768ae-6d3a-43cd-943f-394683b7962b",
   "metadata": {},
   "outputs": [
    {
     "name": "stdout",
     "output_type": "stream",
     "text": [
      "k͡p|ɡ͡b|c|ɡ|k|q|ɖ|ɟ|ɠ|ɢ|... (5275 elements total)\n"
     ]
    }
   ],
   "source": [
    "phonemes = load_phonemes()\n",
    "print(phonemes)"
   ]
  },
  {
   "cell_type": "markdown",
   "id": "9c11c164-8de3-4604-97cc-7a6f405161c5",
   "metadata": {},
   "source": [
    "The `phonemes` variable is a Collection of Phoneme-Objects, more specifically a `Register`. What you see when you print any Register is a short summary of the first elements.\n",
    "You can treat the Register like most Python collection types, meaning you can access elements, iterate over it etc.\n",
    "\n",
    "> Note: Internally, `Register`s are `OrderedDict`s (with some extra convenience methods). Essentially, you can treat it like both Python builtin types `Dict`and `List`.\n",
    "\n",
    "Let's see that in action."
   ]
  },
  {
   "cell_type": "code",
   "execution_count": 9,
   "id": "8939c5c5",
   "metadata": {},
   "outputs": [
    {
     "name": "stdout",
     "output_type": "stream",
     "text": [
      "We can reference elements of a Corpus by position/index: k͡p , or by its string representation: k\n"
     ]
    }
   ],
   "source": [
    "print(\"We can reference elements of a Corpus by position/index:\", phonemes[0], \", or by its string representation:\", phonemes[\"k\"])"
   ]
  },
  {
   "cell_type": "markdown",
   "id": "16c7d30f",
   "metadata": {},
   "source": [
    "Internally, Elements are `Dict`-like objects, more specifically, [Pydantic](https://docs.pydantic.dev/latest/) types."
   ]
  },
  {
   "cell_type": "code",
   "execution_count": 10,
   "id": "4db8949b",
   "metadata": {},
   "outputs": [
    {
     "name": "stdout",
     "output_type": "stream",
     "text": [
      "k\n"
     ]
    },
    {
     "data": {
      "text/plain": [
       "Phoneme(id='k', info={'features': ['-', '-', '+', '-', '-', '-', '-', '0', '-', '-', '-', '-', '-', '0', '-', '+', '-', '+', '-', '0', '-']})"
      ]
     },
     "execution_count": 10,
     "metadata": {},
     "output_type": "execute_result"
    }
   ],
   "source": [
    "print(phonemes[\"k\"])\n",
    "phonemes[\"k\"]"
   ]
  },
  {
   "cell_type": "markdown",
   "id": "5d7efbca-c661-4510-a0f7-694e5926e12b",
   "metadata": {},
   "source": [
    "Annotations can be referenced via the `.info` property, which can hold arbitrary dictionary data"
   ]
  },
  {
   "cell_type": "code",
   "execution_count": 11,
   "id": "b540a558-6740-4873-aa82-943128df52d0",
   "metadata": {},
   "outputs": [
    {
     "name": "stdout",
     "output_type": "stream",
     "text": [
      "{'features': ['-', '-', '+', '-', '-', '-', '-', '0', '-', '-', '-', '-', '-', '0', '-', '+', '-', '+', '-', '0', '-']}\n"
     ]
    }
   ],
   "source": [
    "print(phonemes[\"k\"].info)"
   ]
  },
  {
   "cell_type": "markdown",
   "id": "2f26a0de",
   "metadata": {},
   "source": [
    "Phoneme features can be hard to interpret, so you can also get features directly, e.g. the \"is labial\" binary feature, called `lab`:"
   ]
  },
  {
   "cell_type": "code",
   "execution_count": 12,
   "id": "adce190a",
   "metadata": {},
   "outputs": [
    {
     "name": "stdout",
     "output_type": "stream",
     "text": [
      "Help on method get_binary_feature in module arc.types.phoneme:\n",
      "\n",
      "get_binary_feature(label: Literal['syl', 'son', 'cons', 'cont', 'delrel', 'lat', 'nas', 'strid', 'voi', 'sg', 'cg', 'ant', 'cor', 'distr', 'lab', 'hi', 'lo', 'back', 'round', 'tense', 'long']) method of arc.types.phoneme.Phoneme instance\n",
      "\n"
     ]
    }
   ],
   "source": [
    "help(phonemes[\"k\"].get_binary_feature)"
   ]
  },
  {
   "cell_type": "code",
   "execution_count": 13,
   "id": "35bff672",
   "metadata": {},
   "outputs": [
    {
     "data": {
      "text/plain": [
       "False"
      ]
     },
     "execution_count": 13,
     "metadata": {},
     "output_type": "execute_result"
    }
   ],
   "source": [
    "phonemes[\"k\"].get_binary_feature(\"lab\")"
   ]
  },
  {
   "cell_type": "markdown",
   "id": "d053135c-8d52-47c0-8557-1edae8041d2a",
   "metadata": {},
   "source": [
    "## The Register\n",
    "\n",
    "While Registers in ARC print as compact summaries of their contents, they can be arbitrarily complex data structures."
   ]
  },
  {
   "cell_type": "markdown",
   "id": "a7a4bfe6-c816-4a9c-9bc7-247db67fa32c",
   "metadata": {},
   "source": [
    "Regardless of the contents, Elements and Registers are always JSON serializable, as long as they are valid (which is checked at initialization):"
   ]
  },
  {
   "cell_type": "code",
   "execution_count": 14,
   "id": "fbcfb029-2e21-4841-bc84-9aecdb3ecfa5",
   "metadata": {},
   "outputs": [
    {
     "name": "stdout",
     "output_type": "stream",
     "text": [
      "{\"k͡p\": {\"id\": \"k͡p\", \"info\": {\"features\": [\"-\", \"-\", \"+\", \"-\", \"-\", \"-\", \"-\", \"...\n"
     ]
    }
   ],
   "source": [
    "print(phonemes.to_json()[:80] + \"...\")"
   ]
  },
  {
   "cell_type": "markdown",
   "id": "5bc101a9-5470-4222-aa62-11230c5797f6",
   "metadata": {},
   "source": [
    "... which means they can be written to file and read later as a register. The Register container type has methods for reading and writing:"
   ]
  },
  {
   "cell_type": "code",
   "execution_count": 15,
   "id": "b1c93b5b-a2bb-4640-926a-91b672aa41d9",
   "metadata": {},
   "outputs": [
    {
     "name": "stdout",
     "output_type": "stream",
     "text": [
      "Help on method save in module arc.types.base_types:\n",
      "\n",
      "save(path: Union[str, os.PathLike] = None) method of arc.types.base_types.Register instance\n",
      "\n"
     ]
    }
   ],
   "source": [
    "help(phonemes.save)"
   ]
  },
  {
   "cell_type": "code",
   "execution_count": 16,
   "id": "39ed742a-a23f-4522-bb17-c21df7642ce7",
   "metadata": {},
   "outputs": [
    {
     "name": "stdout",
     "output_type": "stream",
     "text": [
      "k͡p|ɡ͡b|c|ɡ|k|q|ɖ|ɟ|ɠ|ɢ|... (5275 elements total)\n"
     ]
    }
   ],
   "source": [
    "import os\n",
    "\n",
    "os.makedirs(\"results\", exist_ok=True)\n",
    "phonemes.save(os.path.join(\"results\", \"test_phonemes.json\"))\n",
    "loaded_phonemes = load_phonemes(os.path.join(\"results\", \"test_phonemes.json\"))\n",
    "print(loaded_phonemes)"
   ]
  },
  {
   "cell_type": "markdown",
   "id": "8c0ef8d3-a81e-408b-9119-869bce4a7163",
   "metadata": {},
   "source": [
    "### Some useful operations"
   ]
  },
  {
   "cell_type": "code",
   "execution_count": 17,
   "id": "5552c7ab-38d5-45b0-ba5f-08f618e18818",
   "metadata": {},
   "outputs": [],
   "source": [
    "from arc import Register\n",
    "# help(Register)"
   ]
  },
  {
   "cell_type": "code",
   "execution_count": 18,
   "id": "15dcc704-464c-40b4-a995-3a907a89e584",
   "metadata": {},
   "outputs": [
    {
     "name": "stdout",
     "output_type": "stream",
     "text": [
      "k͡p|ɡ͡b|c|ɡ|k|q|ɖ|ɟ|ɠ|ɢ|... (5275 elements total)\n",
      "ɡ|k|b|d|p|t|x|ç|ʃ|f|... (38 elements total)\n"
     ]
    }
   ],
   "source": [
    "from arc.io import read_phoneme_corpus\n",
    "corpus_phonemes = read_phoneme_corpus()\n",
    "print(phonemes)\n",
    "phonemes = phonemes.intersection(corpus_phonemes)\n",
    "print(phonemes)"
   ]
  },
  {
   "cell_type": "markdown",
   "id": "69c94d59-f484-4728-ae83-2b0451266f75",
   "metadata": {},
   "source": [
    "## Syllables\n",
    "Our first composite type is the `Syllable`, consisting of a list of `Phoneme`s. Let's make a collection of syllables, that follow the `cV` pattern, meaning they consist of a single-character phoneme `c` followed by a long vowel `V`."
   ]
  },
  {
   "cell_type": "code",
   "execution_count": 19,
   "id": "756b70c4-3c0b-4373-aac7-5095cddf7b2a",
   "metadata": {},
   "outputs": [
    {
     "name": "stdout",
     "output_type": "stream",
     "text": [
      "Help on function make_syllables in module arc.core.syllable:\n",
      "\n",
      "make_syllables(phonemes: ~RegisterType, phoneme_pattern: str = 'cV', unigram_control: bool = True, language_control: bool = True, language_alpha: Optional[float] = 0.05, from_format: Literal['ipa', 'xsampa'] = 'xsampa', lang: str = 'deu') -> ~RegisterType\n",
      "    _summary_\n",
      "    \n",
      "    Args:\n",
      "        phonemes (RegisterType): A Register of phonemes that will be used as a basis to generate the syllables\n",
      "        phoneme_pattern (str, optional): describes how a syllable is structured, e.g. \"cV\" syllables consist of a single-consonant character and a long vowel. Defaults to \"cV\".\n",
      "        unigram_control (bool, optional): apply statistical control (on the basis of p-val of uniform distribution) to single unigrams. Defaults to True.\n",
      "        language_control (bool, optional): apply language specific controls (only german for now) on the syllable level. Defaults to True.\n",
      "        language_alpha (Optional[float], optional): which p-value to assume for language based statistical control. Defaults to 0.05.\n",
      "        from_format (Literal[&quot;ipa&quot;, &quot;xsampa&quot;], optional): language control will read from a syllable corpus. which format to assume. Defaults to \"xsampa\".\n",
      "        lang (str, optional): which language to use for language controls. Defaults to \"deu\".\n",
      "    \n",
      "    Returns:\n",
      "        RegisterType: The final Register of syllables\n",
      "\n"
     ]
    }
   ],
   "source": [
    "from arc.core.syllable import make_syllables\n",
    "help(make_syllables)"
   ]
  },
  {
   "cell_type": "code",
   "execution_count": 20,
   "id": "5a857502-e57a-4aa9-9577-cbf8f3d52ce0",
   "metadata": {},
   "outputs": [
    {
     "name": "stdout",
     "output_type": "stream",
     "text": [
      "ɡaː|ɡiː|ɡyː|ɡɛː|kaː|koː|kuː|køː|kɛː|baː|... (75 elements total)\n"
     ]
    }
   ],
   "source": [
    "syllables = make_syllables(phonemes, phoneme_pattern=\"cV\")\n",
    "print(syllables)"
   ]
  },
  {
   "cell_type": "markdown",
   "id": "331227cd",
   "metadata": {},
   "source": [
    "They behave pretty much like the phonemes register except that each is further composed of phonemes."
   ]
  },
  {
   "cell_type": "code",
   "execution_count": 21,
   "id": "fb75600e",
   "metadata": {},
   "outputs": [
    {
     "name": "stdout",
     "output_type": "stream",
     "text": [
      "ɡaː ɡiː\n"
     ]
    },
    {
     "data": {
      "text/plain": [
       "(Syllable(id='ɡaː', info={'binary_features': [0, 1, 1, 0, 0, 0, 0, 0, 1, 1, 0, 1, 0, 1, 1], 'phonotactic_features': [['plo', 'oth'], ['a']], 'freq': 85, 'prob': 8.41048e-05}, phonemes=[Phoneme(id='ɡ', info={'features': ['-', '-', '+', '-', '-', '-', '-', '0', '+', '-', '-', '-', '-', '0', '-', '+', '-', '+', '-', '0', '-'], 'word_position_prob': {0: 0.6206003986790039, 1: 0.0370116926006367, 2: 0.18437416322037428, 3: 0.0536729047038172, 4: 0.03079349022641397, 5: 0.030019933950194876, 6: 0.016601707774240575, 7: 0.013061200202314719, 8: 0.004938859302014221, 9: 0.00395703787450537, 10: 0.0016958733747880158, 11: 0.0011603344143286424, 12: 0.0006545476183392342, 13: 0.00038677813810954746, 14: 0.0003570259736395823, 15: 0.00020826515128975634, 16: 0.00014876082234982596, 17: 0.00017851298681979114, 18: 5.950432893993038e-05, 19: 5.950432893993038e-05, 20: 0.0, 21: 0.0, 22: 2.975216446996519e-05, 23: 0.0, 24: 2.975216446996519e-05}}), Phoneme(id='aː', info={'features': ['+', '+', '-', '+', '-', '-', '-', '0', '+', '-', '-', '-', '-', '-', '-', '-', '+', '+', '-', '+', '+'], 'word_position_prob': {0: 0.12874454553597706, 1: 0.7254789051403124, 2: 0.04774335547109934, 3: 0.0355100003838919, 4: 0.0217922632986551, 5: 0.014895005566432492, 6: 0.008714346040155092, 7: 0.009034255953523487, 8: 0.003506212650517614, 9: 0.0017275135321893355, 10: 0.0008957477574315073, 11: 0.0005374486544589043, 12: 0.0005246522579241686, 13: 0.00033270630990313126, 14: 0.00015355675841682983, 15: 0.000140760361882094, 16: 0.00010237117227788655, 17: 5.1185586138943275e-05, 18: 1.2796396534735819e-05, 19: 2.5592793069471637e-05, 20: 3.838918960420746e-05, 21: 1.2796396534735819e-05, 22: 1.2796396534735819e-05, 23: 1.2796396534735819e-05}})]),\n",
       " Syllable(id='ɡiː', info={'binary_features': [0, 1, 1, 0, 0, 0, 0, 0, 1, 0, 1, 0, 0, 1, 1], 'phonotactic_features': [['plo', 'oth'], ['i']], 'freq': 61, 'prob': 6.03576e-05}, phonemes=[Phoneme(id='ɡ', info={'features': ['-', '-', '+', '-', '-', '-', '-', '0', '+', '-', '-', '-', '-', '0', '-', '+', '-', '+', '-', '0', '-'], 'word_position_prob': {0: 0.6206003986790039, 1: 0.0370116926006367, 2: 0.18437416322037428, 3: 0.0536729047038172, 4: 0.03079349022641397, 5: 0.030019933950194876, 6: 0.016601707774240575, 7: 0.013061200202314719, 8: 0.004938859302014221, 9: 0.00395703787450537, 10: 0.0016958733747880158, 11: 0.0011603344143286424, 12: 0.0006545476183392342, 13: 0.00038677813810954746, 14: 0.0003570259736395823, 15: 0.00020826515128975634, 16: 0.00014876082234982596, 17: 0.00017851298681979114, 18: 5.950432893993038e-05, 19: 5.950432893993038e-05, 20: 0.0, 21: 0.0, 22: 2.975216446996519e-05, 23: 0.0, 24: 2.975216446996519e-05}}), Phoneme(id='iː', info={'features': ['+', '+', '-', '+', '-', '-', '-', '0', '+', '-', '-', '-', '-', '-', '-', '+', '-', '-', '-', '+', '+'], 'word_position_prob': {0: 0.0045906656465187455, 1: 0.6486610558530987, 2: 0.07486610558530987, 3: 0.04254016832440704, 4: 0.07333588370313696, 5: 0.023182861514919665, 6: 0.020696250956388676, 7: 0.08446824789594491, 8: 0.012853863810252487, 9: 0.005814843152257078, 10: 0.0035195103289977045, 11: 0.002180566182096404, 12: 0.000918133129303749, 13: 0.00038255547054322876, 14: 0.0008416220351951033, 15: 0.000612088752869166, 16: 3.8255547054322874e-05, 17: 0.0001530221882172915, 18: 0.00026778882938026014, 19: 7.651109410864575e-05}})]))"
      ]
     },
     "execution_count": 21,
     "metadata": {},
     "output_type": "execute_result"
    }
   ],
   "source": [
    "print(syllables[\"ɡaː\"], syllables[1])\n",
    "syllables[\"ɡaː\"], syllables[1]"
   ]
  },
  {
   "cell_type": "markdown",
   "id": "62b55802",
   "metadata": {},
   "source": [
    "You can get the sub-elements of any composite element as a list:"
   ]
  },
  {
   "cell_type": "code",
   "execution_count": 22,
   "id": "456c6079",
   "metadata": {},
   "outputs": [
    {
     "data": {
      "text/plain": [
       "[Phoneme(id='ɡ', info={'features': ['-', '-', '+', '-', '-', '-', '-', '0', '+', '-', '-', '-', '-', '0', '-', '+', '-', '+', '-', '0', '-'], 'word_position_prob': {0: 0.6206003986790039, 1: 0.0370116926006367, 2: 0.18437416322037428, 3: 0.0536729047038172, 4: 0.03079349022641397, 5: 0.030019933950194876, 6: 0.016601707774240575, 7: 0.013061200202314719, 8: 0.004938859302014221, 9: 0.00395703787450537, 10: 0.0016958733747880158, 11: 0.0011603344143286424, 12: 0.0006545476183392342, 13: 0.00038677813810954746, 14: 0.0003570259736395823, 15: 0.00020826515128975634, 16: 0.00014876082234982596, 17: 0.00017851298681979114, 18: 5.950432893993038e-05, 19: 5.950432893993038e-05, 20: 0.0, 21: 0.0, 22: 2.975216446996519e-05, 23: 0.0, 24: 2.975216446996519e-05}}),\n",
       " Phoneme(id='aː', info={'features': ['+', '+', '-', '+', '-', '-', '-', '0', '+', '-', '-', '-', '-', '-', '-', '-', '+', '+', '-', '+', '+'], 'word_position_prob': {0: 0.12874454553597706, 1: 0.7254789051403124, 2: 0.04774335547109934, 3: 0.0355100003838919, 4: 0.0217922632986551, 5: 0.014895005566432492, 6: 0.008714346040155092, 7: 0.009034255953523487, 8: 0.003506212650517614, 9: 0.0017275135321893355, 10: 0.0008957477574315073, 11: 0.0005374486544589043, 12: 0.0005246522579241686, 13: 0.00033270630990313126, 14: 0.00015355675841682983, 15: 0.000140760361882094, 16: 0.00010237117227788655, 17: 5.1185586138943275e-05, 18: 1.2796396534735819e-05, 19: 2.5592793069471637e-05, 20: 3.838918960420746e-05, 21: 1.2796396534735819e-05, 22: 1.2796396534735819e-05, 23: 1.2796396534735819e-05}})]"
      ]
     },
     "execution_count": 22,
     "metadata": {},
     "output_type": "execute_result"
    }
   ],
   "source": [
    "syllables[\"ɡaː\"].get_elements()"
   ]
  },
  {
   "cell_type": "markdown",
   "id": "5d441188",
   "metadata": {},
   "source": [
    "Finally, you can iterate over both, the Elements of a Register and over the Sub-Elements of an Element:"
   ]
  },
  {
   "cell_type": "code",
   "execution_count": 23,
   "id": "44b8027c",
   "metadata": {},
   "outputs": [
    {
     "name": "stdout",
     "output_type": "stream",
     "text": [
      "Syllable ɡaː consists of phonemes ɡ aː \n",
      "Syllable ɡiː consists of phonemes ɡ iː \n"
     ]
    }
   ],
   "source": [
    "for syllable in syllables[:2]:\n",
    "    print(\"Syllable\", syllable, f\"consists of phonemes \", end=\"\") \n",
    "    for phoneme in syllable:\n",
    "        print(phoneme, end=\" \")\n",
    "    print(\"\")"
   ]
  },
  {
   "cell_type": "markdown",
   "id": "fbf91d4c-f5d4-482c-93e5-dc3d95bde840",
   "metadata": {},
   "source": [
    "## Export to SSML\n",
    "Once we are done making syllables, we can export them to Speech Synthesis Markup Language (SSML) for later reference."
   ]
  },
  {
   "cell_type": "code",
   "execution_count": 24,
   "id": "7837841d-8d86-4e6e-9e86-7a7497480444",
   "metadata": {},
   "outputs": [
    {
     "name": "stdout",
     "output_type": "stream",
     "text": [
      "Done\n"
     ]
    }
   ],
   "source": [
    "from arc.io import export_speech_synthesiser\n",
    "export_speech_synthesiser(syllables, syllables_dir=os.path.join(\"results\", \"ssml\"))"
   ]
  },
  {
   "cell_type": "markdown",
   "id": "734630a5-f0f0-46fb-8848-c9324b802cc2",
   "metadata": {},
   "source": [
    "## Words\n",
    "`Word`s are made out of `Syllable`s, same as before when we made syllables from phonemes.\n",
    "\n",
    "Since one of ARC's main features is rythmicity control, our `make_words` function will only create words that have minimum overlap of phonotactic features. By default, this function generates 10000 words, but you can change that with the `n_words` option. With 10000 words, this should run fairly quickly, however, when you set the number higher you may want to also set the `progress_bar=True` flag in the function arguments."
   ]
  },
  {
   "cell_type": "code",
   "execution_count": 25,
   "id": "a76f5094-73bc-4ca9-9831-75791b6d25be",
   "metadata": {},
   "outputs": [
    {
     "name": "stdout",
     "output_type": "stream",
     "text": [
      "Help on function make_words in module arc.core.word:\n",
      "\n",
      "make_words(syllables: ~RegisterType, num_syllables=3, bigram_control=True, bigram_alpha=None, trigram_control=True, trigram_alpha=None, positional_control=True, positional_control_position=None, position_alpha=0, phonotactic_control=True, n_look_back=2, n_words=10000, max_tries=100000, progress_bar: bool = True) -> ~RegisterType\n",
      "    _summary_\n",
      "    \n",
      "    Args:\n",
      "        syllables (RegisterType): The Register of syllables to use as a basis for word generation\n",
      "        num_syllables (int, optional): how many syllables are in a word. Defaults to 3.\n",
      "        bigram_control (bool, optional): apply statistical control on the bigram level. Defaults to True.\n",
      "        bigram_alpha (_type_, optional): which p-value to assume for bigram control. Defaults to None.\n",
      "        trigram_control (bool, optional): apply statistical control on the trigram level. Defaults to True.\n",
      "        trigram_alpha (_type_, optional): which p-value to assume for trigram control. Defaults to None.\n",
      "        positional_control (bool, optional): control phoneme positions in words to be likely given the language. Defaults to True.\n",
      "        positional_control_position (int, optional): At which position to control phoneme likelihood (None means all). Defaults to None.\n",
      "        position_alpha (float, optional): probability throshold for positional control. Defaults to 0.\n",
      "        phonotactic_control (bool, optional): control each syllabel for minimum feature overlap with previous syllables. Defaults to True.\n",
      "        n_look_back (int, optional): how far to look back in the feature overlap control of the syllables. Defaults to 2.\n",
      "        n_words (_type_, optional): how many words to generate. Defaults to 10_000.\n",
      "        max_tries (_type_, optional): how often to attemt to add a word to the Register, before the function gives up. Defaults to 100_000.\n",
      "        progress_bar (bool, optional): print a progress bar based on 'n_words'. Defaults to True.\n",
      "    \n",
      "    Returns:\n",
      "        RegisterType: The Register of words.\n",
      "\n"
     ]
    }
   ],
   "source": [
    "from arc import make_words\n",
    "help(make_words)"
   ]
  },
  {
   "cell_type": "code",
   "execution_count": 27,
   "id": "4e32d88d-c32c-47a8-91f9-373c6b0b6020",
   "metadata": {
    "is_executing": true
   },
   "outputs": [
    {
     "name": "stdout",
     "output_type": "stream",
     "text": [
      "bigram control...\n",
      "trigram control...\n",
      "positional control...\n",
      "tuːfiːheː|biːhøːʃaː|biːnyːçaː|høːbyːsiː|baːhuːʃoː|ʃøːmeːɡiː|muːʃiːɡaː|ɡyːʃuːmeː|puːʃaːhiː|doːhiːfuː|... (9720 elements total)\n"
     ]
    }
   ],
   "source": [
    "words = make_words(syllables, n_words=10_000, progress_bar=False, positional_control=True, position_alpha=0.001)\n",
    "print(words)"
   ]
  },
  {
   "cell_type": "markdown",
   "id": "3052c084-76a8-45b5-8f44-e1e509716cbb",
   "metadata": {},
   "source": [
    "The words register has some relevant info about how it has been created:"
   ]
  },
  {
   "cell_type": "code",
   "execution_count": 28,
   "id": "5546f1ec-89b7-4275-9f3c-22681daa0fe1",
   "metadata": {},
   "outputs": [
    {
     "name": "stdout",
     "output_type": "stream",
     "text": [
      "n_syllables_per_word\n",
      "n_look_back\n",
      "phonotactic_control\n",
      "syllables_info\n",
      "bigram_pval\n",
      "trigram_pval\n",
      "\n",
      "For example, the type of syllables used to create the words is 'cV'\n"
     ]
    }
   ],
   "source": [
    "for key in words.info:\n",
    "    print(key)\n",
    "print(\"\")\n",
    "print(f\"For example, the type of syllables used to create the words is '{words.info['syllables_info']['syllable_type']}'\")"
   ]
  },
  {
   "cell_type": "markdown",
   "id": "5896e8bf-1b21-4fd1-b052-8c1d97552694",
   "metadata": {},
   "source": [
    "## Bonus functions\n",
    "\n",
    "We can always get a random subsample of a Register by running:"
   ]
  },
  {
   "cell_type": "code",
   "execution_count": 29,
   "id": "a430f124-cb84-42b4-82b7-29e7cd112bc9",
   "metadata": {},
   "outputs": [
    {
     "name": "stdout",
     "output_type": "stream",
     "text": [
      "hiːbaːzyː|vaːtuːhøː|kɛːfiːreː|ʃøːɡyːmuː|poːʃaːhøː|saːhiːbyː|vaːtyːhøː|foːhuːdeː|heːʃiːbøː|luːkøːfyː\n"
     ]
    }
   ],
   "source": [
    "words_subset = words.get_subset(10)\n",
    "print(words_subset)"
   ]
  },
  {
   "cell_type": "code",
   "execution_count": 30,
   "id": "8275c803-2730-4976-ac80-ecaa80e6b676",
   "metadata": {},
   "outputs": [],
   "source": [
    "words.save(os.path.join(\"results\", \"words.json\"))"
   ]
  },
  {
   "cell_type": "markdown",
   "id": "060fbe3e-b21d-437e-b1c3-b2588b75e7c0",
   "metadata": {},
   "source": [
    "This concludes our first tutorial. \n",
    "We've made `Syllable`s from `Phonemes`s and `Word`s from `Syllable`s and applied filters to them. \n",
    "Finally, we saved the generated words to a json file. \n",
    "In the other tutorial, we will pick up where we left and load the saved words to generate a `Lexicon`, a Register of `Word`s with specific phonotactic requirements. Later, we will use Lexicons to generate different types of streams."
   ]
  },
  {
   "cell_type": "code",
   "execution_count": null,
   "id": "3d28ff53-a309-428c-997a-c69955502184",
   "metadata": {},
   "outputs": [],
   "source": []
  }
 ],
 "metadata": {
  "kernelspec": {
   "display_name": "Python (ARC)",
   "language": "python",
   "name": "arc"
  },
  "language_info": {
   "codemirror_mode": {
    "name": "ipython",
    "version": 3
   },
   "file_extension": ".py",
   "mimetype": "text/x-python",
   "name": "python",
   "nbconvert_exporter": "python",
   "pygments_lexer": "ipython3",
   "version": "3.9.19"
  }
 },
 "nbformat": 4,
 "nbformat_minor": 5
}
