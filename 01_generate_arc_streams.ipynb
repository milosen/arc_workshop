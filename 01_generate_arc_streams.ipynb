{
 "cells": [
  {
   "attachments": {},
   "cell_type": "markdown",
   "id": "4b0859a1-27fb-4496-b4fd-f87ab45ea567",
   "metadata": {},
   "source": [
    "# Controlled Stream Generation\n",
    "\n",
    "We will generate words and a lexicon with minimal feature overlap between words. Next, we introduce the 3 main ways to generate random streams based on a lexicon. Each specifies how the transition probabilities (TPs) of their syllables are structured:\n",
    "\n",
    "1. uniformlly distributed TPs, called \"TP-random position-random\" in the paper, \n",
    "2. position-controlled TPs, called \"TP-random position-fixed\", and\n",
    "3. TPs that fully preserve the words, called \"TP-structured\".\n",
    "\n",
    "## Installation\n",
    "\n",
    "> ⚠️ We recommend using a virtual environment\n",
    "\n",
    "> ⚠️ If you use a virtual environment, make sure you use the right kernel for this notebook. You can usually select it in the top right corner. If your environment is not in the list, you have to add the ipython kernel from the environment like so:\n",
    "> 1. Activate virtual environment in terminal\n",
    "> 2. Run `pip install ipykernel`\n",
    "> 3. Run `python -m ipykernel install --user --name arc --display-name \"Python (ARC)\"`\n",
    "> 4. Reload this page"
   ]
  },
  {
   "cell_type": "code",
   "execution_count": 1,
   "id": "c5d22326",
   "metadata": {},
   "outputs": [
    {
     "name": "stdout",
     "output_type": "stream",
     "text": [
      "Collecting git+https://github.com/milosen/arc.git\n",
      "  Cloning https://github.com/milosen/arc.git to /private/var/folders/3q/q1slz36d5c74bbp9g06q3m0r0000gx/T/pip-req-build-e3ot8eum\n",
      "  Running command git clone --filter=blob:none --quiet https://github.com/milosen/arc.git /private/var/folders/3q/q1slz36d5c74bbp9g06q3m0r0000gx/T/pip-req-build-e3ot8eum\n",
      "  Resolved https://github.com/milosen/arc.git to commit 6f21fc54e7205ece8bf66c82cf370bd089ed475a\n",
      "  Preparing metadata (setup.py) ... \u001b[?25ldone\n",
      "\u001b[?25hRequirement already satisfied: pandas in /Users/nmilosevic/miniconda3/envs/test_arc/lib/python3.9/site-packages (from arc==1.0) (2.2.2)\n",
      "Requirement already satisfied: numpy in /Users/nmilosevic/miniconda3/envs/test_arc/lib/python3.9/site-packages (from arc==1.0) (1.26.2)\n",
      "Requirement already satisfied: scipy in /Users/nmilosevic/miniconda3/envs/test_arc/lib/python3.9/site-packages (from arc==1.0) (1.11.4)\n",
      "Requirement already satisfied: tqdm in /Users/nmilosevic/miniconda3/envs/test_arc/lib/python3.9/site-packages (from arc==1.0) (4.66.1)\n",
      "Requirement already satisfied: pydantic in /Users/nmilosevic/miniconda3/envs/test_arc/lib/python3.9/site-packages (from arc==1.0) (2.5.2)\n",
      "Requirement already satisfied: pytest in /Users/nmilosevic/miniconda3/envs/test_arc/lib/python3.9/site-packages (from arc==1.0) (7.4.3)\n",
      "Requirement already satisfied: pingouin in /Users/nmilosevic/miniconda3/envs/test_arc/lib/python3.9/site-packages (from arc==1.0) (0.5.4)\n",
      "Requirement already satisfied: matplotlib in /Users/nmilosevic/miniconda3/envs/test_arc/lib/python3.9/site-packages (from arc==1.0) (3.9.1)\n",
      "Requirement already satisfied: contourpy>=1.0.1 in /Users/nmilosevic/miniconda3/envs/test_arc/lib/python3.9/site-packages (from matplotlib->arc==1.0) (1.2.1)\n",
      "Requirement already satisfied: cycler>=0.10 in /Users/nmilosevic/miniconda3/envs/test_arc/lib/python3.9/site-packages (from matplotlib->arc==1.0) (0.12.1)\n",
      "Requirement already satisfied: fonttools>=4.22.0 in /Users/nmilosevic/miniconda3/envs/test_arc/lib/python3.9/site-packages (from matplotlib->arc==1.0) (4.53.1)\n",
      "Requirement already satisfied: kiwisolver>=1.3.1 in /Users/nmilosevic/miniconda3/envs/test_arc/lib/python3.9/site-packages (from matplotlib->arc==1.0) (1.4.5)\n",
      "Requirement already satisfied: packaging>=20.0 in /Users/nmilosevic/miniconda3/envs/test_arc/lib/python3.9/site-packages (from matplotlib->arc==1.0) (23.2)\n",
      "Requirement already satisfied: pillow>=8 in /Users/nmilosevic/miniconda3/envs/test_arc/lib/python3.9/site-packages (from matplotlib->arc==1.0) (10.4.0)\n",
      "Requirement already satisfied: pyparsing>=2.3.1 in /Users/nmilosevic/miniconda3/envs/test_arc/lib/python3.9/site-packages (from matplotlib->arc==1.0) (3.1.2)\n",
      "Requirement already satisfied: python-dateutil>=2.7 in /Users/nmilosevic/miniconda3/envs/test_arc/lib/python3.9/site-packages (from matplotlib->arc==1.0) (2.8.2)\n",
      "Requirement already satisfied: importlib-resources>=3.2.0 in /Users/nmilosevic/miniconda3/envs/test_arc/lib/python3.9/site-packages (from matplotlib->arc==1.0) (6.4.0)\n",
      "Requirement already satisfied: pytz>=2020.1 in /Users/nmilosevic/miniconda3/envs/test_arc/lib/python3.9/site-packages (from pandas->arc==1.0) (2024.1)\n",
      "Requirement already satisfied: tzdata>=2022.7 in /Users/nmilosevic/miniconda3/envs/test_arc/lib/python3.9/site-packages (from pandas->arc==1.0) (2024.1)\n",
      "Requirement already satisfied: seaborn in /Users/nmilosevic/miniconda3/envs/test_arc/lib/python3.9/site-packages (from pingouin->arc==1.0) (0.13.2)\n",
      "Requirement already satisfied: statsmodels in /Users/nmilosevic/miniconda3/envs/test_arc/lib/python3.9/site-packages (from pingouin->arc==1.0) (0.14.2)\n",
      "Requirement already satisfied: scikit-learn in /Users/nmilosevic/miniconda3/envs/test_arc/lib/python3.9/site-packages (from pingouin->arc==1.0) (1.5.1)\n",
      "Requirement already satisfied: pandas-flavor in /Users/nmilosevic/miniconda3/envs/test_arc/lib/python3.9/site-packages (from pingouin->arc==1.0) (0.6.0)\n",
      "Requirement already satisfied: tabulate in /Users/nmilosevic/miniconda3/envs/test_arc/lib/python3.9/site-packages (from pingouin->arc==1.0) (0.9.0)\n",
      "Requirement already satisfied: annotated-types>=0.4.0 in /Users/nmilosevic/miniconda3/envs/test_arc/lib/python3.9/site-packages (from pydantic->arc==1.0) (0.6.0)\n",
      "Requirement already satisfied: pydantic-core==2.14.5 in /Users/nmilosevic/miniconda3/envs/test_arc/lib/python3.9/site-packages (from pydantic->arc==1.0) (2.14.5)\n",
      "Requirement already satisfied: typing-extensions>=4.6.1 in /Users/nmilosevic/miniconda3/envs/test_arc/lib/python3.9/site-packages (from pydantic->arc==1.0) (4.9.0)\n",
      "Requirement already satisfied: iniconfig in /Users/nmilosevic/miniconda3/envs/test_arc/lib/python3.9/site-packages (from pytest->arc==1.0) (2.0.0)\n",
      "Requirement already satisfied: pluggy<2.0,>=0.12 in /Users/nmilosevic/miniconda3/envs/test_arc/lib/python3.9/site-packages (from pytest->arc==1.0) (1.3.0)\n",
      "Requirement already satisfied: exceptiongroup>=1.0.0rc8 in /Users/nmilosevic/miniconda3/envs/test_arc/lib/python3.9/site-packages (from pytest->arc==1.0) (1.2.0)\n",
      "Requirement already satisfied: tomli>=1.0.0 in /Users/nmilosevic/miniconda3/envs/test_arc/lib/python3.9/site-packages (from pytest->arc==1.0) (2.0.1)\n",
      "Requirement already satisfied: zipp>=3.1.0 in /Users/nmilosevic/miniconda3/envs/test_arc/lib/python3.9/site-packages (from importlib-resources>=3.2.0->matplotlib->arc==1.0) (3.17.0)\n",
      "Requirement already satisfied: six>=1.5 in /Users/nmilosevic/miniconda3/envs/test_arc/lib/python3.9/site-packages (from python-dateutil>=2.7->matplotlib->arc==1.0) (1.16.0)\n",
      "Requirement already satisfied: xarray in /Users/nmilosevic/miniconda3/envs/test_arc/lib/python3.9/site-packages (from pandas-flavor->pingouin->arc==1.0) (2024.6.0)\n",
      "Requirement already satisfied: joblib>=1.2.0 in /Users/nmilosevic/miniconda3/envs/test_arc/lib/python3.9/site-packages (from scikit-learn->pingouin->arc==1.0) (1.4.2)\n",
      "Requirement already satisfied: threadpoolctl>=3.1.0 in /Users/nmilosevic/miniconda3/envs/test_arc/lib/python3.9/site-packages (from scikit-learn->pingouin->arc==1.0) (3.5.0)\n",
      "Requirement already satisfied: patsy>=0.5.6 in /Users/nmilosevic/miniconda3/envs/test_arc/lib/python3.9/site-packages (from statsmodels->pingouin->arc==1.0) (0.5.6)\n",
      "Building wheels for collected packages: arc\n",
      "  Building wheel for arc (setup.py) ... \u001b[?25ldone\n",
      "\u001b[?25h  Created wheel for arc: filename=arc-1.0-py3-none-any.whl size=8364590 sha256=6d1ef11da9d4ab526896926d62cd9abf8041365443b3879817b917b48aa7b743\n",
      "  Stored in directory: /private/var/folders/3q/q1slz36d5c74bbp9g06q3m0r0000gx/T/pip-ephem-wheel-cache-x167hs4b/wheels/ba/6b/57/d1e3ae32907d4440fdb6d1c99e436e0cffcc45c89afb632f13\n",
      "Successfully built arc\n",
      "Installing collected packages: arc\n",
      "  Attempting uninstall: arc\n",
      "    Found existing installation: arc 1.0\n",
      "    Uninstalling arc-1.0:\n",
      "      Successfully uninstalled arc-1.0\n",
      "Successfully installed arc-1.0\n",
      "Note: you may need to restart the kernel to use updated packages.\n"
     ]
    }
   ],
   "source": [
    "%pip install --upgrade git+https://github.com/milosen/arc.git"
   ]
  },
  {
   "attachments": {},
   "cell_type": "markdown",
   "id": "7e0ed36c",
   "metadata": {},
   "source": [
    "\n",
    "## Syllable and Word Generation\n",
    "\n",
    "Because ARC runs probabilistically (to speed things up), we set the random seeds to make sure our runs are reproducible."
   ]
  },
  {
   "cell_type": "code",
   "execution_count": 13,
   "id": "1a1953ad",
   "metadata": {},
   "outputs": [
    {
     "name": "stdout",
     "output_type": "stream",
     "text": [
      "ɡ|k|b|d|p|t|x|ç|ʃ|f|... (38 elements total)\n",
      "ɡaː|ɡiː|ɡyː|ɡɛː|kaː|koː|kuː|køː|kɛː|baː|... (75 elements total)\n"
     ]
    },
    {
     "name": "stderr",
     "output_type": "stream",
     "text": [
      "100%|██████████| 10000/10000 [00:11<00:00, 853.04it/s]\n"
     ]
    },
    {
     "name": "stdout",
     "output_type": "stream",
     "text": [
      "bigram control...\n",
      "trigram control...\n",
      "positional control...\n",
      "paːhoːsuː|kaːnuːfyː|hiːʃoːbøː|roːkaːfyː|hiːfyːdoː|toːmyːçaː|nøːbeːçaː|faːheːdoː|moːtiːçaː|kaːmuːʃiː|... (10000 elements total)\n"
     ]
    }
   ],
   "source": [
    "from arc import load_phonemes, make_syllables, make_words, make_lexicons, make_streams\n",
    "\n",
    "phonemes = load_phonemes()\n",
    "print(phonemes)\n",
    "\n",
    "syllables = make_syllables(phonemes)\n",
    "print(syllables)\n",
    "\n",
    "words = make_words(syllables)\n",
    "print(words)"
   ]
  },
  {
   "attachments": {},
   "cell_type": "markdown",
   "id": "0153360a",
   "metadata": {},
   "source": [
    "## Get Help"
   ]
  },
  {
   "cell_type": "code",
   "execution_count": 22,
   "id": "5b1c605a",
   "metadata": {},
   "outputs": [
    {
     "name": "stdout",
     "output_type": "stream",
     "text": [
      "Help on function make_words in module arc.core.word:\n",
      "\n",
      "make_words(syllables: ~RegisterType, num_syllables=3, bigram_control=True, bigram_alpha=None, trigram_control=True, trigram_alpha=None, positional_control=True, positional_control_position=None, position_alpha=0, phonotactic_control=True, n_look_back=2, n_words=10000, max_tries=100000, progress_bar: bool = True) -> ~RegisterType\n",
      "    _summary_\n",
      "    \n",
      "    Args:\n",
      "        syllables (RegisterType): The Register of syllables to use as a basis for word generation\n",
      "        num_syllables (int, optional): how many syllables are in a word. Defaults to 3.\n",
      "        bigram_control (bool, optional): apply statistical control on the bigram level. Defaults to True.\n",
      "        bigram_alpha (_type_, optional): which p-value to assume for bigram control. Defaults to None.\n",
      "        trigram_control (bool, optional): apply statistical control on the trigram level. Defaults to True.\n",
      "        trigram_alpha (_type_, optional): which p-value to assume for trigram control. Defaults to None.\n",
      "        positional_control (bool, optional): control phoneme positions in words to be likely given the language. Defaults to True.\n",
      "        positional_control_position (int, optional): At which position to control phoneme likelihood (None means all). Defaults to None.\n",
      "        position_alpha (float, optional): probability throshold for positional control. Defaults to 0.\n",
      "        phonotactic_control (bool, optional): control each syllabel for minimum feature overlap with previous syllables. Defaults to True.\n",
      "        n_look_back (int, optional): how far to look back in the feature overlap control of the syllables. Defaults to 2.\n",
      "        n_words (_type_, optional): how many words to generate. Defaults to 10_000.\n",
      "        max_tries (_type_, optional): how often to attemt to add a word to the Register, before the function gives up. Defaults to 100_000.\n",
      "        progress_bar (bool, optional): print a progress bar based on 'n_words'. Defaults to True.\n",
      "    \n",
      "    Returns:\n",
      "        RegisterType: The Register of words.\n",
      "\n"
     ]
    }
   ],
   "source": [
    "help(make_words)"
   ]
  },
  {
   "cell_type": "code",
   "execution_count": 14,
   "id": "2fedf0d5",
   "metadata": {},
   "outputs": [
    {
     "name": "stdout",
     "output_type": "stream",
     "text": [
      "Help on function make_syllables in module arc.core.syllable:\n",
      "\n",
      "make_syllables(phonemes: ~RegisterType, phoneme_pattern: str = 'cV', unigram_control: bool = True, language_control: bool = True, language_alpha: Optional[float] = 0.05, from_format: Literal['ipa', 'xsampa'] = 'xsampa', lang: str = 'deu') -> ~RegisterType\n",
      "    _summary_\n",
      "    \n",
      "    Args:\n",
      "        phonemes (RegisterType): A Register of phonemes that will be used as a basis to generate the syllables\n",
      "        phoneme_pattern (str, optional): describes how a syllable is structured, e.g. \"cV\" syllables consist of a single-consonant character and a long vowel. Defaults to \"cV\".\n",
      "        unigram_control (bool, optional): apply statistical control (on the basis of p-val of uniform distribution) to single unigrams. Defaults to True.\n",
      "        language_control (bool, optional): apply language specific controls (only german for now) on the syllable level. Defaults to True.\n",
      "        language_alpha (Optional[float], optional): which p-value to assume for language based statistical control. Defaults to 0.05.\n",
      "        from_format (Literal[&quot;ipa&quot;, &quot;xsampa&quot;], optional): language control will read from a syllable corpus. which format to assume. Defaults to \"xsampa\".\n",
      "        lang (str, optional): which language to use for language controls. Defaults to \"deu\".\n",
      "    \n",
      "    Returns:\n",
      "        RegisterType: The final Register of syllables\n",
      "\n"
     ]
    }
   ],
   "source": [
    "help(make_syllables)"
   ]
  },
  {
   "attachments": {},
   "cell_type": "markdown",
   "id": "31921911-61f2-4ffa-b254-be62abb90b37",
   "metadata": {},
   "source": [
    "## Lexicon Generation\n",
    "\n",
    "Now we generate lexica with minimal feature repetitiveness. "
   ]
  },
  {
   "attachments": {},
   "cell_type": "markdown",
   "id": "8c873dd2-1854-4fa1-a320-a817523e7103",
   "metadata": {},
   "source": [
    "Let's generate 2 lexicons with 4 words each and print some info."
   ]
  },
  {
   "cell_type": "code",
   "execution_count": 15,
   "id": "6491055a-9398-44dc-8b61-b457bf928f15",
   "metadata": {},
   "outputs": [
    {
     "name": "stderr",
     "output_type": "stream",
     "text": [
      "WARNING:arc.core.lexicon:Increasing allowed overlaps: MAX_PAIRWISE_OVERLAP=1, MAX_CUMULATIVE_OVERLAP=1\n",
      "WARNING:arc.core.lexicon:Increasing allowed overlaps: MAX_PAIRWISE_OVERLAP=1, MAX_CUMULATIVE_OVERLAP=2\n"
     ]
    },
    {
     "name": "stdout",
     "output_type": "stream",
     "text": [
      "\n",
      "0 : hoːsuːbaː|vaːheːtɛː|ɡyːfiːruː|zuːɡaːmeː\n",
      "1 : biːçaːnyː|køːmeːzɛː|heːtiːfaː|ruːfyːkɛː\n"
     ]
    }
   ],
   "source": [
    "from arc import make_lexicons\n",
    "\n",
    "lexicons = make_lexicons(words, n_lexicons=2, n_words=4)\n",
    "print(\"\")\n",
    "\n",
    "for i, lexicon in enumerate(lexicons):\n",
    "    print(i, \":\", lexicon)"
   ]
  },
  {
   "cell_type": "code",
   "execution_count": 16,
   "id": "4dae4bc3",
   "metadata": {},
   "outputs": [
    {
     "name": "stdout",
     "output_type": "stream",
     "text": [
      "Help on function make_lexicons in module arc.core.lexicon:\n",
      "\n",
      "make_lexicons(words: ~RegisterType, n_lexicons: int = 5, n_words: int = 4, max_overlap: int = 1, lag_of_interest: int = 1, max_word_matrix: int = 200, unique_words: bool = False, control_features: bool = True) -> List[arc.types.base_types.Register]\n",
      "    _summary_\n",
      "    \n",
      "    Args:\n",
      "        words (RegisterType): The Register of words which the lexicon generation is based on.\n",
      "        n_lexicons (int, optional): How many lexicons to generate. Defaults to 5.\n",
      "        n_words (int, optional): How many words should be in a lexicon. Defaults to 4.\n",
      "        max_overlap (int, optional): How much feature overlap between pairwise word features is allowed. Defaults to 1.\n",
      "        lag_of_interest (int, optional): the frequency of the word features for which a feature is consideret 'overlapping'. 1 means the feature frequency is the number of syllables in 1 word. Defaults to 1.\n",
      "        max_word_matrix (int, optional): How many words to use maximum (subsample if nessesary) to generate the feature overlap matrix. Defaults to 200.\n",
      "        unique_words (bool, optional): check uniqueness of words across all lexicons. Defaults to False.\n",
      "        control_features (bool, optional): control feature overlap between words in the lexicon. If false lexicons will be generated completely at random. Defaults to True.\n",
      "    \n",
      "    Returns:\n",
      "        List[Lexicon]: A List of Lexicons\n",
      "\n"
     ]
    }
   ],
   "source": [
    "help(make_lexicons)"
   ]
  },
  {
   "attachments": {},
   "cell_type": "markdown",
   "id": "9a7816d0-f88c-4353-ad5a-e7a137eddd51",
   "metadata": {},
   "source": [
    "> ⚠️ The runtime of this function depends on the parameters when `control_features=True`. If it takes too long, consider reducing the number of words in the lexicon or the number of lexicons. If you don't get any output, consider increasing the maximum pairwise overlap allowed."
   ]
  },
  {
   "attachments": {},
   "cell_type": "markdown",
   "id": "9a0c5caf",
   "metadata": {},
   "source": [
    "By default, Lexicons with the minimum possible cumulative feature repetitiveness will be generated first, starting at zero. This means words will be joined into a lexicon if the features of all word pairs in the lexicon have no overlap. If it is not possible to generate the requested number Lexicons with zero overlap, the allowed overlap will be increased untill all lexicons are collected, which will be indicated by a warning message.\n",
    "\n",
    "This process will be repeated, until any of the following statements is true\n",
    "- the requested number of Lexicons has been generated\n",
    "- the maximum allowed overlap is reached (set via `max_overlap`)\n",
    "- the set of all word combinations is exhausted\n",
    "\n",
    "If one or more Lexicons is returned, their info fields hold the cumulative overlap between all word pairs that is achieved by the Lexicon as well as the maximum pairwise overlap used."
   ]
  },
  {
   "cell_type": "code",
   "execution_count": 17,
   "id": "eab5ca7e-5929-446b-8a9e-78c979d3b34d",
   "metadata": {},
   "outputs": [
    {
     "name": "stdout",
     "output_type": "stream",
     "text": [
      "Lexicon: hoːsuːbaː|vaːheːtɛː|ɡyːfiːruː|zuːɡaːmeː\n",
      "cumulative_feature_repetitiveness: 2\n",
      "max_pairwise_feature_repetitiveness: 1\n",
      "\n",
      "Lexicon: biːçaːnyː|køːmeːzɛː|heːtiːfaː|ruːfyːkɛː\n",
      "cumulative_feature_repetitiveness: 2\n",
      "max_pairwise_feature_repetitiveness: 1\n",
      "\n"
     ]
    }
   ],
   "source": [
    "for lexicon in lexicons:\n",
    "    print(\"Lexicon:\", lexicon)\n",
    "    print(\"cumulative_feature_repetitiveness:\", lexicon.info[\"cumulative_feature_repetitiveness\"])\n",
    "    print(\"max_pairwise_feature_repetitiveness:\", lexicon.info[\"max_pairwise_feature_repetitiveness\"])\n",
    "    print(\"\")"
   ]
  },
  {
   "attachments": {},
   "cell_type": "markdown",
   "id": "9186f7db",
   "metadata": {},
   "source": [
    "## Stream Generation\n",
    "\n",
    "We want to generate a complete set of compatible lexicons for our study, i.e. to generate a compatible set of streams for testing statistical learning hypotheses. If `streams` is empty, try increasing the allowed maximum rythmicity.\n",
    "\n",
    "The function `make_streams` will try to generate one stream for each lexicon and TP mode. If you specify 'max_rhythmicity', it will discard those that do not meet the requirement. By default, all streams from a lexicon will be discarded if the lexicon can't generate streams for all requested TP modes. Printed below you see a collection of streams. Because streams can get long, you only see their key consisting of the lexicon used to generate it and its TP mode."
   ]
  },
  {
   "cell_type": "code",
   "execution_count": 18,
   "id": "2f69ef37-8b48-4340-b9f8-63a0777dde96",
   "metadata": {},
   "outputs": [
    {
     "name": "stdout",
     "output_type": "stream",
     "text": [
      "Help on function make_streams in module arc.core.stream:\n",
      "\n",
      "make_streams(lexicons: List[~RegisterType], max_rhythmicity: Optional[float] = None, stream_length: int = 32, max_tries_randomize: int = 10, tp_modes: tuple = ('random', 'word_structured', 'position_controlled'), require_all_tp_modes: bool = True) -> ~RegisterType\n",
      "    _summary_\n",
      "    \n",
      "    Args:\n",
      "        lexicons (List[LexiconType]): A list of lexicons used as a basis for generatng the streams\n",
      "        max_rhythmicity (Optional[float], optional): check rhythmicity and discard all streams that have at least one feature with higher PRI than this number. Defaults to None.\n",
      "        stream_length (int, optional): how many syllables are in a stream in multiples of syllables in the lexicon. Defaults to 4.\n",
      "        max_tries_randomize (int, optional): if max_rhythmicity is given and violated, how many times to try with a new randomization. Defaults to 10.\n",
      "        tp_modes (tuple, optional): the ways (modes) in which to control for transition probabilities of syllables in the stream. Defaults to (\"random\", \"word_structured\", \"position_controlled\").\n",
      "        require_all_tp_modes (bool, optional): all streams coming from the same lexicon will be discarded if not all their tp-modes have been found. Defaults to True.\n",
      "    \n",
      "    Returns:\n",
      "        RegisterType: _description_\n",
      "\n"
     ]
    }
   ],
   "source": [
    "from arc import make_streams\n",
    "help(make_streams)"
   ]
  },
  {
   "cell_type": "code",
   "execution_count": 19,
   "id": "60b0c7f0-281a-4f02-8ac9-3b1621b8a029",
   "metadata": {},
   "outputs": [],
   "source": [
    "streams = make_streams(lexicons)"
   ]
  },
  {
   "attachments": {},
   "cell_type": "markdown",
   "id": "ac301ad8-f883-4de7-9719-7db125b37570",
   "metadata": {},
   "source": [
    "> ⚠️ The runtime of this function depends on the parameters, especially when you specify a `max_rhythmicity`, because the function re-samples the random stream until `max_rhythmicity` is satisfied. This takes time, because TP-statistics need to be controlled each time. If it takes too long, consider removing the option.\n",
    "\n",
    "To inspect a stream, select one either by index or by key:"
   ]
  },
  {
   "cell_type": "code",
   "execution_count": 20,
   "id": "d224f751-3cc9-4549-b6e7-b3697f11b93b",
   "metadata": {},
   "outputs": [
    {
     "name": "stdout",
     "output_type": "stream",
     "text": [
      "vaː|suː|ɡyː|meː|fiː|hoː|heː|ruː|tɛː|ɡaː|zuː|baː|ɡyː|heː|zuː|ruː|baː|fiː|suː|hoː|ɡaː|tɛː|vaː|meː|zuː|ɡyː|vaː|baː|ɡaː|heː|hoː|tɛː|ruː|fiː|meː|suː|tɛː|zuː|heː|vaː|hoː|ruː|ɡaː|meː|ɡyː|baː|suː|fiː|ɡyː|tɛː|meː|heː|ɡaː|suː|zuː|vaː|fiː|ruː|hoː|baː|hoː|fiː|zuː|suː|baː|tɛː|ɡyː|ruː|vaː|heː|meː|ɡaː|fiː|heː|suː|meː|tɛː|hoː|vaː|ɡyː|zuː|ɡaː|baː|ruː|meː|ruː|heː|baː|zuː|hoː|suː|vaː|tɛː|fiː|ɡaː|ɡyː|hoː|ɡyː|ɡaː|ruː|suː|heː|tɛː|baː|meː|vaː|zuː|fiː|baː|heː|ɡyː|fiː|vaː|ruː|zuː|tɛː|suː|ɡaː|hoː|meː|hoː|zuː|meː|baː|vaː|ɡaː|ɡyː|suː|ruː|heː|fiː|tɛː|heː|ɡaː|vaː|tɛː|fiː|baː|meː|ruː|ɡyː|zuː|hoː|suː|ruː|ɡyː|vaː|suː|meː|baː|zuː|heː|hoː|fiː|ɡaː|tɛː|ɡaː|suː|zuː|ruː|tɛː|vaː|ɡyː|fiː|hoː|meː|heː|baː|suː|ɡyː|heː|tɛː|meː|ɡaː|vaː|baː|fiː|ruː|hoː|zuː|baː|ruː|meː|hoː|heː|suː|fiː|ɡyː|tɛː|zuː|vaː|ɡaː|heː|meː|ɡyː|suː|tɛː|ruː|vaː|fiː|zuː|ɡaː|baː|hoː|tɛː|suː|vaː|meː|zuː|fiː|heː|ruː|baː|ɡyː|ɡaː|hoː|ɡyː|hoː|baː|vaː|ruː|fiː|tɛː|heː|zuː|suː|ɡaː|meː|fiː|suː|heː|ɡyː|meː|vaː|hoː|ɡaː|ruː|zuː|tɛː|baː|ɡaː|zuː|ɡyː|ruː|suː|hoː|vaː|heː|fiː|meː|tɛː|baː|tɛː|ɡyː|baː|heː|vaː|zuː|meː|suː|ɡaː|fiː|ruː|hoː|ruː|ɡaː|suː|baː|fiː|vaː|hoː|ɡyː|heː|zuː|meː|tɛː|hoː|baː|suː|ɡyː|fiː|meː|ɡaː|vaː|heː|ruː|zuː|tɛː|suː|baː|ɡaː|hoː|zuː|ruː|meː|ɡyː|tɛː|fiː|heː|vaː|baː|hoː|suː|zuː|fiː|ɡyː|ɡaː|tɛː|meː|vaː|ruː|heː|baː|meː|ruː|suː|hoː|fiː|tɛː|vaː|ɡyː|zuː|ɡaː|heː|hoː|meː|zuː|heː|suː|tɛː|ɡyː|baː|ruː|vaː|fiː|ɡaː|baː|zuː|ɡyː|suː|vaː|ɡaː|meː|hoː|heː|tɛː|ruː|fiː|baː|ɡyː|hoː|ruː|tɛː|zuː|vaː|suː|meː|heː|ɡaː|fiː|suː|heː|meː|fiː|vaː|zuː|hoː|tɛː|ɡaː|ɡyː|ruː|baː|heː|fiː|hoː|ɡaː|zuː|suː|ruː|ɡyː|vaː|meː|baː|tɛː\n"
     ]
    }
   ],
   "source": [
    "stream = streams[0]\n",
    "print(stream)"
   ]
  },
  {
   "cell_type": "code",
   "execution_count": 21,
   "id": "65e606a1-8427-4d09-9058-f2c0e330b275",
   "metadata": {},
   "outputs": [
    {
     "name": "stdout",
     "output_type": "stream",
     "text": [
      "Lexicon: hoːsuːbaː|vaːheːtɛː|ɡyːfiːruː|zuːɡaːmeː\n",
      "TP mode: random\n",
      "Feature PRIs:\n",
      "  phon_1_son 0.06349206349206349\n",
      "  phon_1_back 0.047619047619047616\n",
      "  phon_1_hi 0.047619047619047616\n",
      "  phon_1_lab 0.07936507936507936\n",
      "  phon_1_cor 0.1111111111111111\n",
      "  phon_1_cont 0.026455026455026454\n",
      "  phon_1_lat 0.0\n",
      "  phon_1_nas 0.007936507936507936\n",
      "  phon_1_voi 0.021164021164021163\n",
      "  phon_2_back 0.04497354497354497\n",
      "  phon_2_hi 0.05291005291005291\n",
      "  phon_2_lo 0.09788359788359788\n",
      "  phon_2_lab 0.06613756613756613\n",
      "  phon_2_tense 0.0\n",
      "  phon_2_long 0.0\n"
     ]
    }
   ],
   "source": [
    "print(\"Lexicon:\", stream.info[\"lexicon\"])\n",
    "print(\"TP mode:\", stream.info[\"stream_tp_mode\"])\n",
    "print(\"Feature PRIs:\") \n",
    "for feat, pri in stream.info[\"rhythmicity_indexes\"].items():\n",
    "    print(\" \", feat, pri)"
   ]
  },
  {
   "attachments": {},
   "cell_type": "markdown",
   "id": "c7558308-40fa-4fb5-8ec1-585fc73ba250",
   "metadata": {},
   "source": [
    "As you can see, the `.info` field holds some useful information about the generated stream, i.e. which Lexicon has been used to generate it, the rythmicity indexes achieved for each feature, and which randomization/TP-structure mode has been used.\n",
    "\n",
    "This concludes the second tutorial, and we end this series with the third and last tutorial about how to use your own data."
   ]
  },
  {
   "cell_type": "code",
   "execution_count": null,
   "id": "818242aa-4b28-4dcd-a035-85099c2bc1a0",
   "metadata": {},
   "outputs": [],
   "source": []
  }
 ],
 "metadata": {
  "kernelspec": {
   "display_name": "test_arc",
   "language": "python",
   "name": "python3"
  },
  "language_info": {
   "codemirror_mode": {
    "name": "ipython",
    "version": 3
   },
   "file_extension": ".py",
   "mimetype": "text/x-python",
   "name": "python",
   "nbconvert_exporter": "python",
   "pygments_lexer": "ipython3",
   "version": "3.9.19"
  }
 },
 "nbformat": 4,
 "nbformat_minor": 5
}
