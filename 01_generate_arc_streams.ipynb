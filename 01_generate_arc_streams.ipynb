{
 "cells": [
  {
   "attachments": {},
   "cell_type": "markdown",
   "id": "4b0859a1-27fb-4496-b4fd-f87ab45ea567",
   "metadata": {},
   "source": [
    "# Controlled Stream Generation\n",
    "\n",
    "We will generate words and a lexicon with minimal feature overlap between words. Next, we introduce the 3 main ways to generate random streams based on a lexicon. Each specifies how the transition probabilities (TPs) of their syllables are structured:\n",
    "\n",
    "1. uniformlly distributed TPs, called \"TP-random position-random\" in the paper, \n",
    "2. position-controlled TPs, called \"TP-random position-fixed\", and\n",
    "3. TPs that fully preserve the words, called \"TP-structured\".\n",
    "\n",
    "## Installation\n",
    "\n",
    "> ⚠️ We recommend using a virtual environment\n",
    "\n",
    "> ⚠️ If you use a virtual environment, make sure you use the right kernel for this notebook. You can usually select it in the top right corner. If your environment is not in the list, you have to add the ipython kernel from the environment like so:\n",
    "> 1. Activate virtual environment in terminal\n",
    "> 2. Run `pip install ipykernel`\n",
    "> 3. Run `python -m ipykernel install --user --name arc --display-name \"Python (ARC)\"`\n",
    "> 4. Reload this page"
   ]
  },
  {
   "cell_type": "code",
   "execution_count": null,
   "id": "279922b4",
   "metadata": {},
   "outputs": [
    {
     "name": "stdout",
     "output_type": "stream",
     "text": [
      "Package                   Version    Editable project location\n",
      "------------------------- ---------- -------------------------------\n",
      "annotated-types           0.6.0\n",
      "anyio                     4.1.0\n",
      "appnope                   0.1.3\n",
      "arc                       1.0        /Users/nmilosevic/workspace/arc\n",
      "argon2-cffi               23.1.0\n",
      "argon2-cffi-bindings      21.2.0\n",
      "arrow                     1.3.0\n",
      "asttokens                 2.4.1\n",
      "async-lru                 2.0.4\n",
      "attrs                     23.1.0\n",
      "Babel                     2.13.1\n",
      "beautifulsoup4            4.12.2\n",
      "bleach                    6.1.0\n",
      "certifi                   2023.11.17\n",
      "cffi                      1.16.0\n",
      "charset-normalizer        3.3.2\n",
      "comm                      0.2.0\n",
      "contourpy                 1.2.1\n",
      "cycler                    0.12.1\n",
      "debugpy                   1.8.0\n",
      "decorator                 5.1.1\n",
      "defusedxml                0.7.1\n",
      "exceptiongroup            1.2.0\n",
      "executing                 2.0.1\n",
      "fastjsonschema            2.19.0\n",
      "fonttools                 4.53.1\n",
      "fqdn                      1.5.1\n",
      "idna                      3.6\n",
      "importlib-metadata        7.0.0\n",
      "importlib_resources       6.4.0\n",
      "iniconfig                 2.0.0\n",
      "ipykernel                 6.27.1\n",
      "ipython                   8.18.1\n",
      "ipywidgets                8.1.1\n",
      "isoduration               20.11.0\n",
      "jedi                      0.19.1\n",
      "Jinja2                    3.1.2\n",
      "joblib                    1.4.2\n",
      "json5                     0.9.14\n",
      "jsonpointer               2.4\n",
      "jsonschema                4.20.0\n",
      "jsonschema-specifications 2023.11.2\n",
      "jupyter                   1.0.0\n",
      "jupyter_client            8.6.0\n",
      "jupyter-console           6.6.3\n",
      "jupyter_core              5.5.0\n",
      "jupyter-events            0.9.0\n",
      "jupyter-lsp               2.2.1\n",
      "jupyter_server            2.12.1\n",
      "jupyter_server_terminals  0.5.0\n",
      "jupyterlab                4.0.9\n",
      "jupyterlab_pygments       0.3.0\n",
      "jupyterlab_server         2.25.2\n",
      "jupyterlab-widgets        3.0.9\n",
      "kiwisolver                1.4.5\n",
      "markdown-it-py            3.0.0\n",
      "MarkupSafe                2.1.3\n",
      "matplotlib                3.9.1\n",
      "matplotlib-inline         0.1.6\n",
      "mdurl                     0.1.2\n",
      "mistune                   3.0.2\n",
      "nbclient                  0.9.0\n",
      "nbconvert                 7.12.0\n",
      "nbformat                  5.9.2\n",
      "nest-asyncio              1.5.8\n",
      "notebook                  7.0.6\n",
      "notebook_shim             0.2.3\n",
      "numpy                     1.26.2\n",
      "overrides                 7.4.0\n",
      "packaging                 23.2\n",
      "pandas                    2.2.2\n",
      "pandas-flavor             0.6.0\n",
      "pandocfilters             1.5.0\n",
      "parso                     0.8.3\n",
      "patsy                     0.5.6\n",
      "pexpect                   4.9.0\n",
      "pillow                    10.4.0\n",
      "pingouin                  0.5.4\n",
      "pip                       23.3.1\n",
      "platformdirs              4.1.0\n",
      "pluggy                    1.3.0\n",
      "prometheus-client         0.19.0\n",
      "prompt-toolkit            3.0.41\n",
      "psutil                    5.9.6\n",
      "ptyprocess                0.7.0\n",
      "pure-eval                 0.2.2\n",
      "pycparser                 2.21\n",
      "pydantic                  2.5.2\n",
      "pydantic_core             2.14.5\n",
      "Pygments                  2.17.2\n",
      "pyparsing                 3.1.2\n",
      "pytest                    7.4.3\n",
      "python-dateutil           2.8.2\n",
      "python-json-logger        2.0.7\n",
      "pytz                      2024.1\n",
      "PyYAML                    6.0.1\n",
      "pyzmq                     25.1.2\n",
      "qtconsole                 5.5.1\n",
      "QtPy                      2.4.1\n",
      "referencing               0.32.0\n",
      "requests                  2.31.0\n",
      "rfc3339-validator         0.1.4\n",
      "rfc3986-validator         0.1.1\n",
      "rich                      13.7.0\n",
      "rpds-py                   0.13.2\n",
      "scikit-learn              1.5.1\n",
      "scipy                     1.11.4\n",
      "seaborn                   0.13.2\n",
      "Send2Trash                1.8.2\n",
      "setuptools                68.0.0\n",
      "six                       1.16.0\n",
      "sniffio                   1.3.0\n",
      "soupsieve                 2.5\n",
      "stack-data                0.6.3\n",
      "statsmodels               0.14.2\n",
      "tabulate                  0.9.0\n",
      "terminado                 0.18.0\n",
      "threadpoolctl             3.5.0\n",
      "tinycss2                  1.2.1\n",
      "tomli                     2.0.1\n",
      "tornado                   6.4\n",
      "tqdm                      4.66.1\n",
      "traitlets                 5.14.0\n",
      "types-python-dateutil     2.8.19.14\n",
      "typing_extensions         4.9.0\n",
      "tzdata                    2024.1\n",
      "uri-template              1.3.0\n",
      "urllib3                   2.1.0\n",
      "wcwidth                   0.2.12\n",
      "webcolors                 1.13\n",
      "webencodings              0.5.1\n",
      "websocket-client          1.7.0\n",
      "wheel                     0.41.2\n",
      "widgetsnbextension        4.0.9\n",
      "xarray                    2024.6.0\n",
      "zipp                      3.17.0\n",
      "Note: you may need to restart the kernel to use updated packages.\n"
     ]
    },
    {
     "name": "stderr",
     "output_type": "stream",
     "text": []
    }
   ],
   "source": [
    "%pip list"
   ]
  },
  {
   "cell_type": "code",
   "execution_count": 1,
   "id": "c5d22326",
   "metadata": {},
   "outputs": [
    {
     "name": "stdout",
     "output_type": "stream",
     "text": [
      "Collecting git+https://github.com/milosen/arc.git\n",
      "  Cloning https://github.com/milosen/arc.git to /private/var/folders/3q/q1slz36d5c74bbp9g06q3m0r0000gx/T/pip-req-build-e3ot8eum\n",
      "  Running command git clone --filter=blob:none --quiet https://github.com/milosen/arc.git /private/var/folders/3q/q1slz36d5c74bbp9g06q3m0r0000gx/T/pip-req-build-e3ot8eum\n",
      "  Resolved https://github.com/milosen/arc.git to commit 6f21fc54e7205ece8bf66c82cf370bd089ed475a\n",
      "  Preparing metadata (setup.py) ... \u001b[?25ldone\n",
      "\u001b[?25hRequirement already satisfied: pandas in /Users/nmilosevic/miniconda3/envs/test_arc/lib/python3.9/site-packages (from arc==1.0) (2.2.2)\n",
      "Requirement already satisfied: numpy in /Users/nmilosevic/miniconda3/envs/test_arc/lib/python3.9/site-packages (from arc==1.0) (1.26.2)\n",
      "Requirement already satisfied: scipy in /Users/nmilosevic/miniconda3/envs/test_arc/lib/python3.9/site-packages (from arc==1.0) (1.11.4)\n",
      "Requirement already satisfied: tqdm in /Users/nmilosevic/miniconda3/envs/test_arc/lib/python3.9/site-packages (from arc==1.0) (4.66.1)\n",
      "Requirement already satisfied: pydantic in /Users/nmilosevic/miniconda3/envs/test_arc/lib/python3.9/site-packages (from arc==1.0) (2.5.2)\n",
      "Requirement already satisfied: pytest in /Users/nmilosevic/miniconda3/envs/test_arc/lib/python3.9/site-packages (from arc==1.0) (7.4.3)\n",
      "Requirement already satisfied: pingouin in /Users/nmilosevic/miniconda3/envs/test_arc/lib/python3.9/site-packages (from arc==1.0) (0.5.4)\n",
      "Requirement already satisfied: matplotlib in /Users/nmilosevic/miniconda3/envs/test_arc/lib/python3.9/site-packages (from arc==1.0) (3.9.1)\n",
      "Requirement already satisfied: contourpy>=1.0.1 in /Users/nmilosevic/miniconda3/envs/test_arc/lib/python3.9/site-packages (from matplotlib->arc==1.0) (1.2.1)\n",
      "Requirement already satisfied: cycler>=0.10 in /Users/nmilosevic/miniconda3/envs/test_arc/lib/python3.9/site-packages (from matplotlib->arc==1.0) (0.12.1)\n",
      "Requirement already satisfied: fonttools>=4.22.0 in /Users/nmilosevic/miniconda3/envs/test_arc/lib/python3.9/site-packages (from matplotlib->arc==1.0) (4.53.1)\n",
      "Requirement already satisfied: kiwisolver>=1.3.1 in /Users/nmilosevic/miniconda3/envs/test_arc/lib/python3.9/site-packages (from matplotlib->arc==1.0) (1.4.5)\n",
      "Requirement already satisfied: packaging>=20.0 in /Users/nmilosevic/miniconda3/envs/test_arc/lib/python3.9/site-packages (from matplotlib->arc==1.0) (23.2)\n",
      "Requirement already satisfied: pillow>=8 in /Users/nmilosevic/miniconda3/envs/test_arc/lib/python3.9/site-packages (from matplotlib->arc==1.0) (10.4.0)\n",
      "Requirement already satisfied: pyparsing>=2.3.1 in /Users/nmilosevic/miniconda3/envs/test_arc/lib/python3.9/site-packages (from matplotlib->arc==1.0) (3.1.2)\n",
      "Requirement already satisfied: python-dateutil>=2.7 in /Users/nmilosevic/miniconda3/envs/test_arc/lib/python3.9/site-packages (from matplotlib->arc==1.0) (2.8.2)\n",
      "Requirement already satisfied: importlib-resources>=3.2.0 in /Users/nmilosevic/miniconda3/envs/test_arc/lib/python3.9/site-packages (from matplotlib->arc==1.0) (6.4.0)\n",
      "Requirement already satisfied: pytz>=2020.1 in /Users/nmilosevic/miniconda3/envs/test_arc/lib/python3.9/site-packages (from pandas->arc==1.0) (2024.1)\n",
      "Requirement already satisfied: tzdata>=2022.7 in /Users/nmilosevic/miniconda3/envs/test_arc/lib/python3.9/site-packages (from pandas->arc==1.0) (2024.1)\n",
      "Requirement already satisfied: seaborn in /Users/nmilosevic/miniconda3/envs/test_arc/lib/python3.9/site-packages (from pingouin->arc==1.0) (0.13.2)\n",
      "Requirement already satisfied: statsmodels in /Users/nmilosevic/miniconda3/envs/test_arc/lib/python3.9/site-packages (from pingouin->arc==1.0) (0.14.2)\n",
      "Requirement already satisfied: scikit-learn in /Users/nmilosevic/miniconda3/envs/test_arc/lib/python3.9/site-packages (from pingouin->arc==1.0) (1.5.1)\n",
      "Requirement already satisfied: pandas-flavor in /Users/nmilosevic/miniconda3/envs/test_arc/lib/python3.9/site-packages (from pingouin->arc==1.0) (0.6.0)\n",
      "Requirement already satisfied: tabulate in /Users/nmilosevic/miniconda3/envs/test_arc/lib/python3.9/site-packages (from pingouin->arc==1.0) (0.9.0)\n",
      "Requirement already satisfied: annotated-types>=0.4.0 in /Users/nmilosevic/miniconda3/envs/test_arc/lib/python3.9/site-packages (from pydantic->arc==1.0) (0.6.0)\n",
      "Requirement already satisfied: pydantic-core==2.14.5 in /Users/nmilosevic/miniconda3/envs/test_arc/lib/python3.9/site-packages (from pydantic->arc==1.0) (2.14.5)\n",
      "Requirement already satisfied: typing-extensions>=4.6.1 in /Users/nmilosevic/miniconda3/envs/test_arc/lib/python3.9/site-packages (from pydantic->arc==1.0) (4.9.0)\n",
      "Requirement already satisfied: iniconfig in /Users/nmilosevic/miniconda3/envs/test_arc/lib/python3.9/site-packages (from pytest->arc==1.0) (2.0.0)\n",
      "Requirement already satisfied: pluggy<2.0,>=0.12 in /Users/nmilosevic/miniconda3/envs/test_arc/lib/python3.9/site-packages (from pytest->arc==1.0) (1.3.0)\n",
      "Requirement already satisfied: exceptiongroup>=1.0.0rc8 in /Users/nmilosevic/miniconda3/envs/test_arc/lib/python3.9/site-packages (from pytest->arc==1.0) (1.2.0)\n",
      "Requirement already satisfied: tomli>=1.0.0 in /Users/nmilosevic/miniconda3/envs/test_arc/lib/python3.9/site-packages (from pytest->arc==1.0) (2.0.1)\n",
      "Requirement already satisfied: zipp>=3.1.0 in /Users/nmilosevic/miniconda3/envs/test_arc/lib/python3.9/site-packages (from importlib-resources>=3.2.0->matplotlib->arc==1.0) (3.17.0)\n",
      "Requirement already satisfied: six>=1.5 in /Users/nmilosevic/miniconda3/envs/test_arc/lib/python3.9/site-packages (from python-dateutil>=2.7->matplotlib->arc==1.0) (1.16.0)\n",
      "Requirement already satisfied: xarray in /Users/nmilosevic/miniconda3/envs/test_arc/lib/python3.9/site-packages (from pandas-flavor->pingouin->arc==1.0) (2024.6.0)\n",
      "Requirement already satisfied: joblib>=1.2.0 in /Users/nmilosevic/miniconda3/envs/test_arc/lib/python3.9/site-packages (from scikit-learn->pingouin->arc==1.0) (1.4.2)\n",
      "Requirement already satisfied: threadpoolctl>=3.1.0 in /Users/nmilosevic/miniconda3/envs/test_arc/lib/python3.9/site-packages (from scikit-learn->pingouin->arc==1.0) (3.5.0)\n",
      "Requirement already satisfied: patsy>=0.5.6 in /Users/nmilosevic/miniconda3/envs/test_arc/lib/python3.9/site-packages (from statsmodels->pingouin->arc==1.0) (0.5.6)\n",
      "Building wheels for collected packages: arc\n",
      "  Building wheel for arc (setup.py) ... \u001b[?25ldone\n",
      "\u001b[?25h  Created wheel for arc: filename=arc-1.0-py3-none-any.whl size=8364590 sha256=6d1ef11da9d4ab526896926d62cd9abf8041365443b3879817b917b48aa7b743\n",
      "  Stored in directory: /private/var/folders/3q/q1slz36d5c74bbp9g06q3m0r0000gx/T/pip-ephem-wheel-cache-x167hs4b/wheels/ba/6b/57/d1e3ae32907d4440fdb6d1c99e436e0cffcc45c89afb632f13\n",
      "Successfully built arc\n",
      "Installing collected packages: arc\n",
      "  Attempting uninstall: arc\n",
      "    Found existing installation: arc 1.0\n",
      "    Uninstalling arc-1.0:\n",
      "      Successfully uninstalled arc-1.0\n",
      "Successfully installed arc-1.0\n",
      "Note: you may need to restart the kernel to use updated packages.\n"
     ]
    }
   ],
   "source": [
    "%pip install --upgrade git+https://github.com/milosen/arc.git"
   ]
  },
  {
   "attachments": {},
   "cell_type": "markdown",
   "id": "7e0ed36c",
   "metadata": {},
   "source": [
    "\n",
    "## Syllable and Word Generation\n",
    "\n",
    "Because ARC runs probabilistically (to speed things up), we set the random seeds to make sure our runs are reproducible."
   ]
  },
  {
   "cell_type": "code",
   "execution_count": 1,
   "id": "4869bfe5-e2e0-418d-b617-b0b5c08ce1e9",
   "metadata": {},
   "outputs": [],
   "source": [
    "from arc import set_seed\n",
    "\n",
    "set_seed(0)"
   ]
  },
  {
   "cell_type": "code",
   "execution_count": 2,
   "id": "1a1953ad",
   "metadata": {},
   "outputs": [
    {
     "name": "stdout",
     "output_type": "stream",
     "text": [
      "ɡ|k|b|d|p|t|x|ç|ʃ|f|... (38 elements total)\n",
      "ɡaː|ɡiː|ɡyː|ɡɛː|kaː|koː|kuː|køː|kɛː|baː|... (75 elements total)\n"
     ]
    },
    {
     "name": "stderr",
     "output_type": "stream",
     "text": [
      "100%|██████████| 10000/10000 [00:15<00:00, 628.79it/s]\n"
     ]
    },
    {
     "name": "stdout",
     "output_type": "stream",
     "text": [
      "bigram control...\n",
      "trigram control...\n",
      "positional control...\n",
      "vaːtoːhuː|doːhuːfiː|biːroːçaː|piːzuːhoː|ɡaːzuːmoː|loːkuːvaː|huːbiːzyː|ɡaːʃøːmoː|deːhøːfuː|deːfyːhuː|... (10000 elements total)\n"
     ]
    }
   ],
   "source": [
    "from arc import load_phonemes, make_syllables, make_words\n",
    "\n",
    "phonemes = load_phonemes()\n",
    "print(phonemes)\n",
    "\n",
    "syllables = make_syllables(phonemes)\n",
    "print(syllables)\n",
    "\n",
    "words = make_words(syllables)\n",
    "print(words)"
   ]
  },
  {
   "attachments": {},
   "cell_type": "markdown",
   "id": "0153360a",
   "metadata": {},
   "source": [
    "## Get Help"
   ]
  },
  {
   "cell_type": "code",
   "execution_count": 3,
   "id": "2fedf0d5",
   "metadata": {},
   "outputs": [
    {
     "name": "stdout",
     "output_type": "stream",
     "text": [
      "Help on function make_syllables in module arc.core.syllable:\n",
      "\n",
      "make_syllables(phonemes: ~RegisterType, phoneme_pattern: str = 'cV', unigram_control: bool = True, language_control: bool = True, language_alpha: Optional[float] = 0.05, from_format: Literal['ipa', 'xsampa'] = 'xsampa', lang: str = 'deu') -> ~RegisterType\n",
      "    _summary_\n",
      "    \n",
      "    Args:\n",
      "        phonemes (RegisterType): A Register of phonemes that will be used as a basis to generate the syllables\n",
      "        phoneme_pattern (str, optional): describes how a syllable is structured, e.g. \"cV\" syllables consist of a single-consonant character and a long vowel. Defaults to \"cV\".\n",
      "        unigram_control (bool, optional): apply statistical control (on the basis of p-val of uniform distribution) to single unigrams. Defaults to True.\n",
      "        language_control (bool, optional): apply language specific controls (only german for now) on the syllable level. Defaults to True.\n",
      "        language_alpha (Optional[float], optional): which p-value to assume for language based statistical control. Defaults to 0.05.\n",
      "        from_format (Literal[&quot;ipa&quot;, &quot;xsampa&quot;], optional): language control will read from a syllable corpus. which format to assume. Defaults to \"xsampa\".\n",
      "        lang (str, optional): which language to use for language controls. Defaults to \"deu\".\n",
      "    \n",
      "    Returns:\n",
      "        RegisterType: The final Register of syllables\n",
      "\n"
     ]
    }
   ],
   "source": [
    "help(make_syllables)"
   ]
  },
  {
   "attachments": {},
   "cell_type": "markdown",
   "id": "31921911-61f2-4ffa-b254-be62abb90b37",
   "metadata": {},
   "source": [
    "## Lexicon Generation\n",
    "\n",
    "Now we generate lexica with minimal feature repetitiveness. "
   ]
  },
  {
   "attachments": {},
   "cell_type": "markdown",
   "id": "8c873dd2-1854-4fa1-a320-a817523e7103",
   "metadata": {},
   "source": [
    "Let's generate 2 lexicons with 4 words each and print some info."
   ]
  },
  {
   "cell_type": "code",
   "execution_count": 12,
   "id": "6491055a-9398-44dc-8b61-b457bf928f15",
   "metadata": {},
   "outputs": [
    {
     "name": "stderr",
     "output_type": "stream",
     "text": [
      "WARNING:arc.core.lexicon:Increasing allowed overlaps: MAX_PAIRWISE_OVERLAP=1, MAX_CUMULATIVE_OVERLAP=1\n",
      "WARNING:arc.core.lexicon:Increasing allowed overlaps: MAX_PAIRWISE_OVERLAP=1, MAX_CUMULATIVE_OVERLAP=2\n"
     ]
    },
    {
     "name": "stdout",
     "output_type": "stream",
     "text": [
      "\n",
      "0 : ɡyːfoːnuː|boːzøːhuː|ryːɡaːfuː|ʃiːmoːkaː\n",
      "1 : høːboːsaː|vaːroːkøː|koːʃiːmeː|nøːɡɛːfiː\n"
     ]
    }
   ],
   "source": [
    "from arc import make_lexicons\n",
    "\n",
    "lexicons = make_lexicons(words, n_lexicons=2, n_words=4)\n",
    "print(\"\")\n",
    "\n",
    "for i, lexicon in enumerate(lexicons):\n",
    "    print(i, \":\", lexicon)"
   ]
  },
  {
   "attachments": {},
   "cell_type": "markdown",
   "id": "9a7816d0-f88c-4353-ad5a-e7a137eddd51",
   "metadata": {},
   "source": [
    "> ⚠️ The runtime of this function depends on the parameters when `control_features=True`. If it takes too long, consider reducing the number of words in the lexicon or the number of lexicons. If you don't get any output, consider increasing the maximum pairwise overlap allowed."
   ]
  },
  {
   "attachments": {},
   "cell_type": "markdown",
   "id": "9a0c5caf",
   "metadata": {},
   "source": [
    "By default, Lexicons with the minimum possible cumulative feature repetitiveness will be generated first, starting at zero. This means words will be joined into a lexicon if the features of all word pairs in the lexicon have no overlap. If it is not possible to generate the requested number Lexicons with zero overlap, the allowed overlap will be increased untill all lexicons are collected, which will be indicated by a warning message.\n",
    "\n",
    "This process will be repeated, until any of the following statements is true\n",
    "- the requested number of Lexicons has been generated\n",
    "- the maximum allowed overlap is reached (set via `max_overlap`)\n",
    "- the set of all word combinations is exhausted\n",
    "\n",
    "If one or more Lexicons is returned, their info fields hold the cumulative overlap between all word pairs that is achieved by the Lexicon as well as the maximum pairwise overlap used."
   ]
  },
  {
   "cell_type": "code",
   "execution_count": 13,
   "id": "eab5ca7e-5929-446b-8a9e-78c979d3b34d",
   "metadata": {},
   "outputs": [
    {
     "name": "stdout",
     "output_type": "stream",
     "text": [
      "Lexicon: ɡyːfoːnuː|boːzøːhuː|ryːɡaːfuː|ʃiːmoːkaː\n",
      "cumulative_feature_repetitiveness: 2\n",
      "max_pairwise_feature_repetitiveness: 1\n",
      "\n",
      "Lexicon: høːboːsaː|vaːroːkøː|koːʃiːmeː|nøːɡɛːfiː\n",
      "cumulative_feature_repetitiveness: 2\n",
      "max_pairwise_feature_repetitiveness: 1\n",
      "\n"
     ]
    }
   ],
   "source": [
    "for lexicon in lexicons:\n",
    "    print(\"Lexicon:\", lexicon)\n",
    "    print(\"cumulative_feature_repetitiveness:\", lexicon.info[\"cumulative_feature_repetitiveness\"])\n",
    "    print(\"max_pairwise_feature_repetitiveness:\", lexicon.info[\"max_pairwise_feature_repetitiveness\"])\n",
    "    print(\"\")"
   ]
  },
  {
   "attachments": {},
   "cell_type": "markdown",
   "id": "9186f7db",
   "metadata": {},
   "source": [
    "## Stream Generation\n",
    "\n",
    "We want to generate a complete set of compatible lexicons for our study, i.e. to generate a compatible set of streams for testing statistical learning hypotheses. If `streams` is empty, try increasing the allowed maximum rythmicity.\n",
    "\n",
    "The function `make_streams` will try to generate one stream for each lexicon and TP mode. If you specify 'max_rhythmicity', it will discard those that do not meet the requirement. By default, all streams from a lexicon will be discarded if the lexicon can't generate streams for all requested TP modes. Printed below you see a collection of streams. Because streams can get long, you only see their key consisting of the lexicon used to generate it and its TP mode."
   ]
  },
  {
   "cell_type": "code",
   "execution_count": 14,
   "id": "2f69ef37-8b48-4340-b9f8-63a0777dde96",
   "metadata": {},
   "outputs": [
    {
     "name": "stdout",
     "output_type": "stream",
     "text": [
      "Help on function make_streams in module arc.core.stream:\n",
      "\n",
      "make_streams(lexicons: List[~RegisterType], max_rhythmicity: Optional[float] = None, stream_length: int = 32, max_tries_randomize: int = 10, tp_modes: tuple = ('random', 'word_structured', 'position_controlled'), require_all_tp_modes: bool = True) -> ~RegisterType\n",
      "    _summary_\n",
      "    \n",
      "    Args:\n",
      "        lexicons (List[LexiconType]): A list of lexicons used as a basis for generatng the streams\n",
      "        max_rhythmicity (Optional[float], optional): check rhythmicity and discard all streams that have at least one feature with higher PRI than this number. Defaults to None.\n",
      "        stream_length (int, optional): how many syllables are in a stream in multiples of syllables in the lexicon. Defaults to 4.\n",
      "        max_tries_randomize (int, optional): if max_rhythmicity is given and violated, how many times to try with a new randomization. Defaults to 10.\n",
      "        tp_modes (tuple, optional): the ways (modes) in which to control for transition probabilities of syllables in the stream. Defaults to (\"random\", \"word_structured\", \"position_controlled\").\n",
      "        require_all_tp_modes (bool, optional): all streams coming from the same lexicon will be discarded if not all their tp-modes have been found. Defaults to True.\n",
      "    \n",
      "    Returns:\n",
      "        RegisterType: _description_\n",
      "\n"
     ]
    }
   ],
   "source": [
    "from arc import make_streams\n",
    "help(make_streams)"
   ]
  },
  {
   "cell_type": "code",
   "execution_count": 17,
   "id": "60b0c7f0-281a-4f02-8ac9-3b1621b8a029",
   "metadata": {},
   "outputs": [],
   "source": [
    "streams = make_streams(lexicons)"
   ]
  },
  {
   "attachments": {},
   "cell_type": "markdown",
   "id": "ac301ad8-f883-4de7-9719-7db125b37570",
   "metadata": {},
   "source": [
    "> ⚠️ The runtime of this function depends on the parameters, especially when you specify a `max_rhythmicity`, because the function re-samples the random stream until `max_rhythmicity` is satisfied. This takes time, because TP-statistics need to be controlled each time. If it takes too long, consider removing the option.\n",
    "\n",
    "To inspect a stream, select one either by index or by key:"
   ]
  },
  {
   "cell_type": "code",
   "execution_count": 18,
   "id": "d224f751-3cc9-4549-b6e7-b3697f11b93b",
   "metadata": {},
   "outputs": [
    {
     "name": "stdout",
     "output_type": "stream",
     "text": [
      "foː|kaː|ʃiː|ɡyː|zøː|huː|boː|nuː|ɡaː|fuː|ryː|moː|zøː|fuː|foː|ryː|ʃiː|boː|huː|moː|nuː|kaː|ɡaː|ɡyː|ʃiː|foː|zøː|moː|huː|fuː|ɡaː|boː|kaː|nuː|ɡyː|ryː|fuː|ʃiː|ɡaː|zøː|ryː|nuː|moː|ɡyː|boː|foː|huː|kaː|huː|ɡaː|moː|ʃiː|zøː|ɡyː|kaː|fuː|boː|ryː|foː|nuː|boː|moː|fuː|nuː|foː|ʃiː|kaː|zøː|ɡaː|ryː|ɡyː|huː|ɡyː|nuː|zøː|ʃiː|fuː|huː|foː|boː|ɡaː|kaː|moː|ryː|ɡaː|huː|ryː|zøː|kaː|foː|ɡyː|fuː|moː|boː|ʃiː|nuː|fuː|kaː|ɡyː|moː|ɡaː|ʃiː|huː|nuː|ryː|boː|zøː|foː|ɡaː|foː|fuː|zøː|boː|ɡyː|nuː|ʃiː|moː|kaː|ryː|huː|ʃiː|ryː|kaː|boː|fuː|ɡyː|foː|moː|zøː|nuː|huː|ɡaː|nuː|boː|fuː|ɡyː|ɡaː|ʃiː|moː|foː|kaː|huː|zøː|ryː|fuː|kaː|foː|ryː|ɡyː|zøː|ɡaː|nuː|huː|moː|ʃiː|boː|zøː|nuː|kaː|fuː|huː|boː|ɡyː|moː|foː|ʃiː|ryː|ɡaː|huː|kaː|nuː|ryː|boː|ʃiː|foː|ɡaː|moː|ɡyː|fuː|zøː|boː|nuː|fuː|ɡaː|ɡyː|ryː|ʃiː|zøː|huː|foː|moː|kaː|zøː|foː|ɡyː|kaː|boː|moː|nuː|ɡaː|fuː|ryː|huː|ʃiː|huː|ryː|nuː|moː|fuː|boː|ɡaː|kaː|ʃiː|ɡyː|foː|zøː|fuː|ʃiː|nuː|foː|huː|ɡyː|ɡaː|zøː|moː|boː|kaː|ryː|kaː|ɡyː|boː|huː|nuː|zøː|ʃiː|ɡaː|foː|fuː|moː|ryː|zøː|ɡyː|huː|fuː|nuː|ʃiː|kaː|moː|ɡaː|ryː|foː|boː|ryː|moː|huː|zøː|kaː|ɡaː|boː|foː|nuː|ɡyː|ʃiː|fuː|foː|boː|kaː|moː|ryː|fuː|nuː|huː|ɡyː|ʃiː|ɡaː|zøː|ɡaː|ʃiː|foː|moː|fuː|kaː|huː|ryː|nuː|boː|zøː|ɡyː|nuː|ɡyː|moː|zøː|boː|foː|ʃiː|huː|kaː|fuː|ɡaː|ryː|moː|ɡyː|foː|ryː|boː|ɡaː|huː|fuː|zøː|nuː|ʃiː|kaː|ɡyː|kaː|ʃiː|moː|nuː|fuː|foː|zøː|huː|ɡaː|boː|ryː|kaː|ryː|huː|boː|moː|ɡaː|ɡyː|fuː|ʃiː|zøː|foː|nuː|ɡaː|kaː|boː|fuː|ɡyː|zøː|ʃiː|ryː|foː|huː|nuː|moː|kaː|zøː|fuː|ryː|ʃiː|boː|nuː|foː|ɡyː|ɡaː|moː|huː|foː|ɡaː|fuː|boː|huː|moː|ʃiː|ɡyː|ryː|zøː|kaː|nuː|kaː|ɡaː|foː|fuː|huː|zøː|moː|boː|ʃiː|nuː|ryː|ɡyː\n"
     ]
    }
   ],
   "source": [
    "stream = streams[0]\n",
    "print(stream)"
   ]
  },
  {
   "cell_type": "code",
   "execution_count": 19,
   "id": "65e606a1-8427-4d09-9058-f2c0e330b275",
   "metadata": {},
   "outputs": [
    {
     "name": "stdout",
     "output_type": "stream",
     "text": [
      "Lexicon: ɡyːfoːnuː|boːzøːhuː|ryːɡaːfuː|ʃiːmoːkaː\n",
      "TP mode: random\n",
      "Feature PRIs:\n",
      "  phon_1_son 0.10052910052910052\n",
      "  phon_1_back 0.03968253968253968\n",
      "  phon_1_hi 0.03968253968253968\n",
      "  phon_1_lab 0.07936507936507936\n",
      "  phon_1_cor 0.07936507936507936\n",
      "  phon_1_cont 0.037037037037037035\n",
      "  phon_1_lat 0.0\n",
      "  phon_1_nas 0.03439153439153439\n",
      "  phon_1_voi 0.026455026455026454\n",
      "  phon_2_back 0.0026455026455026454\n",
      "  phon_2_hi 0.047619047619047616\n",
      "  phon_2_lo 0.018518518518518517\n",
      "  phon_2_lab 0.05291005291005291\n",
      "  phon_2_tense 0.0\n",
      "  phon_2_long 0.0\n"
     ]
    }
   ],
   "source": [
    "print(\"Lexicon:\", stream.info[\"lexicon\"])\n",
    "print(\"TP mode:\", stream.info[\"stream_tp_mode\"])\n",
    "print(\"Feature PRIs:\") \n",
    "for feat, pri in stream.info[\"rhythmicity_indexes\"].items():\n",
    "    print(\" \", feat, pri)"
   ]
  },
  {
   "attachments": {},
   "cell_type": "markdown",
   "id": "c7558308-40fa-4fb5-8ec1-585fc73ba250",
   "metadata": {},
   "source": [
    "As you can see, the `.info` field holds some useful information about the generated stream, i.e. which Lexicon has been used to generate it, the rythmicity indexes achieved for each feature, and which randomization/TP-structure mode has been used.\n",
    "\n",
    "This concludes the second tutorial, and we end this series with the third and last tutorial about how to use your own data."
   ]
  },
  {
   "cell_type": "code",
   "execution_count": null,
   "id": "818242aa-4b28-4dcd-a035-85099c2bc1a0",
   "metadata": {},
   "outputs": [],
   "source": []
  }
 ],
 "metadata": {
  "kernelspec": {
   "display_name": "test_arc",
   "language": "python",
   "name": "python3"
  },
  "language_info": {
   "codemirror_mode": {
    "name": "ipython",
    "version": 3
   },
   "file_extension": ".py",
   "mimetype": "text/x-python",
   "name": "python",
   "nbconvert_exporter": "python",
   "pygments_lexer": "ipython3",
   "version": "3.9.18"
  }
 },
 "nbformat": 4,
 "nbformat_minor": 5
}
