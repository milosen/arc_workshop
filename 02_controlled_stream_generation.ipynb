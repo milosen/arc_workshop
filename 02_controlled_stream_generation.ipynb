{
 "cells": [
  {
   "cell_type": "markdown",
   "id": "4b0859a1-27fb-4496-b4fd-f87ab45ea567",
   "metadata": {},
   "source": [
    "# Controlled Stream Generation\n",
    "\n",
    "We will generate words and a lexicon with minimal feature overlap between words. Next, we introduce the 3 main ways to generate random streams based on a lexicon. Each specifies how the transition probabilities (TPs) of their syllables are structured:\n",
    "\n",
    "1. uniformlly distributed TPs, called \"TP-random position-random\" in the paper, \n",
    "2. position-controlled TPs, called \"TP-random position-fixed\", and\n",
    "3. TPs that fully preserve the words, called \"TP-structured\".\n",
    "\n",
    "## Syllable and Word Generation\n",
    "\n",
    "First, we generate/reload the words register (see arc types tutorial).\n",
    "\n",
    "Because ARC runs probabilistically (to speed things up), we set the random seeds to make sure our runs are reproducible."
   ]
  },
  {
   "cell_type": "code",
   "execution_count": 1,
   "id": "4869bfe5-e2e0-418d-b617-b0b5c08ce1e9",
   "metadata": {},
   "outputs": [],
   "source": [
    "import numpy as np \n",
    "import random\n",
    "import os\n",
    "\n",
    "np.random.seed(0)\n",
    "random.seed(0)"
   ]
  },
  {
   "cell_type": "code",
   "execution_count": 2,
   "id": "6a6ccbb0-e9cf-4078-a87a-64763665b221",
   "metadata": {},
   "outputs": [
    {
     "name": "stdout",
     "output_type": "stream",
     "text": [
      "Load words...\n",
      "tuːfiːheː|biːhøːʃaː|biːnyːçaː|høːbyːsiː|baːhuːʃoː|ʃøːmeːɡiː|muːʃiːɡaː|ɡyːʃuːmeː|puːʃaːhiː|doːhiːfuː|... (9720 elements total)\n"
     ]
    }
   ],
   "source": [
    "from arc import load_words\n",
    "\n",
    "print(\"Load words...\")\n",
    "words = load_words(os.path.join(\"results\", \"words.json\"))\n",
    "print(words)"
   ]
  },
  {
   "cell_type": "markdown",
   "id": "31921911-61f2-4ffa-b254-be62abb90b37",
   "metadata": {},
   "source": [
    "## Lexicon Generation\n",
    "\n",
    "Now we generate lexica with minimal feature repetitiveness. "
   ]
  },
  {
   "cell_type": "code",
   "execution_count": 3,
   "id": "be12c21c-9a3e-4593-b98f-ec364afff0c1",
   "metadata": {},
   "outputs": [
    {
     "name": "stdout",
     "output_type": "stream",
     "text": [
      "Help on function make_lexicons in module arc.core.lexicon:\n",
      "\n",
      "make_lexicons(words: ~RegisterType, n_lexicons: int = 5, n_words: int = 4, max_overlap: int = 1, lag_of_interest: int = 1, max_word_matrix: int = 200, unique_words: bool = False, control_features: bool = True) -> List[arc.types.base_types.Register]\n",
      "    _summary_\n",
      "    \n",
      "    Args:\n",
      "        words (RegisterType): The Register of words which the lexicon generation is based on.\n",
      "        n_lexicons (int, optional): How many lexicons to generate. Defaults to 5.\n",
      "        n_words (int, optional): How many words should be in a lexicon. Defaults to 4.\n",
      "        max_overlap (int, optional): How much feature overlap between pairwise word features is allowed. Defaults to 1.\n",
      "        lag_of_interest (int, optional): the frequency of the word features for which a feature is consideret 'overlapping'. 1 means the feature frequency is the number of syllables in 1 word. Defaults to 1.\n",
      "        max_word_matrix (int, optional): How many words to use maximum (subsample if nessesary) to generate the feature overlap matrix. Defaults to 200.\n",
      "        unique_words (bool, optional): check uniqueness of words across all lexicons. Defaults to False.\n",
      "        control_features (bool, optional): control feature overlap between words in the lexicon. If false lexicons will be generated completely at random. Defaults to True.\n",
      "    \n",
      "    Returns:\n",
      "        List[Lexicon]: A List of Lexicons\n",
      "\n"
     ]
    }
   ],
   "source": [
    "from arc import make_lexicons\n",
    "help(make_lexicons)"
   ]
  },
  {
   "cell_type": "markdown",
   "id": "8c873dd2-1854-4fa1-a320-a817523e7103",
   "metadata": {},
   "source": [
    "Let's generate 2 lexicons with 4 words each and print some info."
   ]
  },
  {
   "cell_type": "code",
   "execution_count": 4,
   "id": "6491055a-9398-44dc-8b61-b457bf928f15",
   "metadata": {},
   "outputs": [
    {
     "name": "stderr",
     "output_type": "stream",
     "text": [
      "Increasing allowed overlaps: MAX_PAIRWISE_OVERLAP=1, MAX_CUMULATIVE_OVERLAP=1\n",
      "Increasing allowed overlaps: MAX_PAIRWISE_OVERLAP=1, MAX_CUMULATIVE_OVERLAP=2\n"
     ]
    },
    {
     "name": "stdout",
     "output_type": "stream",
     "text": [
      "\n",
      "kuːmyːʃøː|zɛːpoːhuː|fyːkaːniː|hiːzyːbaː\n",
      "kuːmyːʃøː|tɛːfyːhøː|beːʃaːhoː|huːʃiːpaː\n"
     ]
    }
   ],
   "source": [
    "lexicons = make_lexicons(words, n_lexicons=2, n_words=4, control_features=True)\n",
    "print(\"\")\n",
    "\n",
    "for lexicon in lexicons:\n",
    "    print(lexicon)"
   ]
  },
  {
   "cell_type": "markdown",
   "id": "9a7816d0-f88c-4353-ad5a-e7a137eddd51",
   "metadata": {},
   "source": [
    "> ⚠️ The runtime of this function depends on the parameters when `control_features=True`. If it takes too long, consider reducing the number of words in the lexicon or the number of lexicons. If you don't get any output, consider increasing the maximum pairwise overlap allowed."
   ]
  },
  {
   "cell_type": "markdown",
   "id": "9a0c5caf",
   "metadata": {},
   "source": [
    "By default, Lexicons with the minimum possible cumulative feature repetitiveness will be generated first, starting at zero. This means words will be joined into a lexicon if the features of all word pairs in the lexicon have no overlap. If it is not possible to generate the requested number Lexicons with zero overlap, the allowed overlap will be increased untill all lexicons are collected, which will be indicated by a warning message.\n",
    "\n",
    "This process will be repeated, until any of the following statements is true\n",
    "- the requested number of Lexicons has been generated\n",
    "- the maximum allowed overlap is reached (set via `max_overlap`)\n",
    "- the set of all word combinations is exhausted\n",
    "\n",
    "If one or more Lexicons is returned, their info fields hold the cumulative overlap between all word pairs that is achieved by the Lexicon as well as the maximum pairwise overlap used."
   ]
  },
  {
   "cell_type": "code",
   "execution_count": 5,
   "id": "eab5ca7e-5929-446b-8a9e-78c979d3b34d",
   "metadata": {},
   "outputs": [
    {
     "name": "stdout",
     "output_type": "stream",
     "text": [
      "Lexicon: kuːmyːʃøː|zɛːpoːhuː|fyːkaːniː|hiːzyːbaː\n",
      "cumulative_feature_repetitiveness: 2\n",
      "max_pairwise_feature_repetitiveness: 1\n",
      "\n",
      "Lexicon: kuːmyːʃøː|tɛːfyːhøː|beːʃaːhoː|huːʃiːpaː\n",
      "cumulative_feature_repetitiveness: 2\n",
      "max_pairwise_feature_repetitiveness: 1\n",
      "\n"
     ]
    }
   ],
   "source": [
    "for lexicon in lexicons:\n",
    "    print(\"Lexicon:\", lexicon)\n",
    "    print(\"cumulative_feature_repetitiveness:\", lexicon.info[\"cumulative_feature_repetitiveness\"])\n",
    "    print(\"max_pairwise_feature_repetitiveness:\", lexicon.info[\"max_pairwise_feature_repetitiveness\"])\n",
    "    print(\"\")"
   ]
  },
  {
   "cell_type": "markdown",
   "id": "9186f7db",
   "metadata": {},
   "source": [
    "## Stream Generation\n",
    "\n",
    "We want to generate a complete set of compatible lexicons for our study, i.e. to generate a compatible set of streams for testing statistical learning hypotheses. If `streams` is empty, try increasing the allowed maximum rythmicity.\n",
    "\n",
    "The function `make_streams` will try to generate one stream for each lexicon and TP mode. If you specify 'max_rhythmicity', it will discard those that do not meet the requirement. By default, all streams from a lexicon will be discarded if the lexicon can't generate streams for all requested TP modes. Printed below you see a collection of streams. Because streams can get long, you only see their key consisting of the lexicon used to generate it and its TP mode."
   ]
  },
  {
   "cell_type": "code",
   "execution_count": 6,
   "id": "2f69ef37-8b48-4340-b9f8-63a0777dde96",
   "metadata": {},
   "outputs": [
    {
     "name": "stdout",
     "output_type": "stream",
     "text": [
      "Help on function make_streams in module arc.core.stream:\n",
      "\n",
      "make_streams(lexicons: List[~RegisterType], max_rhythmicity: Optional[float] = None, stream_length: int = 32, max_tries_randomize: int = 10, tp_modes: tuple = ('random', 'word_structured', 'position_controlled'), require_all_tp_modes: bool = True) -> ~RegisterType\n",
      "    _summary_\n",
      "    \n",
      "    Args:\n",
      "        lexicons (List[LexiconType]): A list of lexicons used as a basis for generatng the streams\n",
      "        max_rhythmicity (Optional[float], optional): check rhythmicity and discard all streams that have at least one feature with higher PRI than this number. Defaults to None.\n",
      "        stream_length (int, optional): how many syllables are in a stream in multiples of syllables in the lexicon. Defaults to 4.\n",
      "        max_tries_randomize (int, optional): if max_rhythmicity is given and violated, how many times to try with a new randomization. Defaults to 10.\n",
      "        tp_modes (tuple, optional): the ways (modes) in which to control for transition probabilities of syllables in the stream. Defaults to (\"random\", \"word_structured\", \"position_controlled\").\n",
      "        require_all_tp_modes (bool, optional): all streams coming from the same lexicon will be discarded if not all their tp-modes have been found. Defaults to True.\n",
      "    \n",
      "    Returns:\n",
      "        RegisterType: _description_\n",
      "\n"
     ]
    }
   ],
   "source": [
    "from arc import make_streams\n",
    "help(make_streams)"
   ]
  },
  {
   "cell_type": "code",
   "execution_count": 8,
   "id": "60b0c7f0-281a-4f02-8ac9-3b1621b8a029",
   "metadata": {},
   "outputs": [
    {
     "name": "stdout",
     "output_type": "stream",
     "text": [
      "kuːmyːʃøːzɛːpoːhuːfyːkaːniːhiːzyːbaː_random|kuːmyːʃøːzɛːpoːhuːfyːkaːniːhiːzyːbaː_word_structured|kuːmyːʃøːzɛːpoːhuːfyːkaːniːhiːzyːbaː_position_controlled|kuːmyːʃøːtɛːfyːhøːbeːʃaːhoːhuːʃiːpaː_random|kuːmyːʃøːtɛːfyːhøːbeːʃaːhoːhuːʃiːpaː_word_structured|kuːmyːʃøːtɛːfyːhøːbeːʃaːhoːhuːʃiːpaː_position_controlled\n"
     ]
    }
   ],
   "source": [
    "streams = make_streams(lexicons)\n",
    "\n",
    "print(streams)"
   ]
  },
  {
   "cell_type": "markdown",
   "id": "ac301ad8-f883-4de7-9719-7db125b37570",
   "metadata": {},
   "source": [
    "> ⚠️ The runtime of this function depends on the parameters, especially when you specify a `max_rhythmicity`, because the function re-samples the random stream until `max_rhythmicity` is satisfied. This takes time, because TP-statistics need to be controlled each time. If it takes too long, consider removing the option.\n",
    "\n",
    "To inspect a stream, select one either by index or by key:"
   ]
  },
  {
   "cell_type": "code",
   "execution_count": 9,
   "id": "d224f751-3cc9-4549-b6e7-b3697f11b93b",
   "metadata": {},
   "outputs": [
    {
     "name": "stdout",
     "output_type": "stream",
     "text": [
      "kuː|baː|poː|ʃøː|kaː|zɛː|fyː|hiː|myː|niː|huː|zyː|huː|poː|kuː|myː|zyː|kaː|hiː|zɛː|baː|fyː|niː|ʃøː|zyː|kuː|huː|zɛː|ʃøː|fyː|kaː|myː|hiː|baː|niː|poː|niː|fyː|ʃøː|poː|huː|baː|kaː|kuː|zɛː|hiː|zyː|myː|kuː|poː|kaː|ʃøː|zɛː|niː|zyː|fyː|huː|myː|baː|hiː|huː|ʃøː|kuː|zyː|hiː|niː|baː|myː|fyː|zɛː|kaː|poː|fyː|kuː|niː|kaː|baː|zyː|poː|myː|zɛː|huː|hiː|ʃøː|myː|ʃøː|huː|niː|zɛː|zyː|baː|kuː|kaː|fyː|poː|hiː|poː|zyː|ʃøː|hiː|kaː|niː|kuː|fyː|baː|zɛː|myː|huː|kuː|ʃøː|baː|huː|kaː|zyː|niː|hiː|fyː|myː|poː|zɛː|poː|baː|ʃøː|niː|myː|kaː|huː|fyː|zyː|zɛː|kuː|hiː|kuː|niː|myː|ʃøː|huː|poː|kaː|zyː|fyː|hiː|zɛː|baː|ʃøː|niː|kuː|baː|huː|myː|zyː|zɛː|fyː|poː|hiː|kaː|zɛː|huː|kuː|kaː|ʃøː|myː|baː|fyː|niː|hiː|zyː|poː|fyː|kaː|huː|ʃøː|poː|zɛː|zyː|niː|baː|myː|hiː|kuː|zyː|baː|hiː|myː|zɛː|niː|fyː|kuː|ʃøː|kaː|poː|huː|baː|zyː|kaː|niː|ʃøː|zɛː|kuː|myː|fyː|huː|hiː|poː|ʃøː|fyː|zyː|hiː|baː|kuː|poː|niː|zɛː|kaː|myː|huː|zɛː|poː|myː|kuː|huː|niː|zyː|ʃøː|hiː|fyː|baː|kaː|baː|niː|poː|zyː|huː|fyː|myː|kaː|hiː|ʃøː|kuː|zɛː|hiː|huː|zyː|myː|niː|kaː|fyː|zɛː|ʃøː|baː|poː|kuː|hiː|niː|huː|kaː|kuː|fyː|ʃøː|zyː|baː|zɛː|myː|poː|baː|kaː|myː|poː|fyː|hiː|niː|zyː|kuː|huː|ʃøː|zɛː|kuː|baː|zyː|huː|zɛː|myː|niː|kaː|ʃøː|poː|hiː|fyː|zɛː|fyː|baː|ʃøː|zyː|niː|huː|poː|kaː|kuː|hiː|myː|zɛː|kaː|niː|hiː|baː|huː|myː|ʃøː|kuː|zyː|fyː|poː|niː|kuː|ʃøː|fyː|huː|hiː|kaː|zɛː|zyː|poː|myː|baː|zɛː|poː|zyː|kuː|myː|hiː|ʃøː|baː|fyː|kaː|huː|niː|poː|zɛː|ʃøː|niː|fyː|myː|huː|zyː|kaː|baː|hiː|kuː|fyː|niː|baː|myː|kaː|poː|huː|kuː|zɛː|hiː|zyː|ʃøː|kaː|fyː|zyː|hiː|huː|baː|poː|ʃøː|myː|kuː|niː|zɛː|niː|myː|fyː|ʃøː|hiː|poː|baː|kuː|kaː|zyː|zɛː|huː\n"
     ]
    }
   ],
   "source": [
    "stream = streams[0]\n",
    "print(stream)"
   ]
  },
  {
   "cell_type": "code",
   "execution_count": 10,
   "id": "65e606a1-8427-4d09-9058-f2c0e330b275",
   "metadata": {},
   "outputs": [
    {
     "name": "stdout",
     "output_type": "stream",
     "text": [
      "Lexicon: kuːmyːʃøː|zɛːpoːhuː|fyːkaːniː|hiːzyːbaː\n",
      "TP mode: random\n",
      "Feature PRIs:\n",
      "  phon_1_son 0.06878306878306878\n",
      "  phon_1_back 0.03968253968253968\n",
      "  phon_1_hi 0.03968253968253968\n",
      "  phon_1_lab 0.07671957671957672\n",
      "  phon_1_cor 0.06084656084656084\n",
      "  phon_1_cont 0.03968253968253968\n",
      "  phon_1_lat 0.0\n",
      "  phon_1_nas 0.05291005291005291\n",
      "  phon_1_voi 0.06613756613756613\n",
      "  phon_2_back 0.082010582010582\n",
      "  phon_2_hi 0.015873015873015872\n",
      "  phon_2_lo 0.042328042328042326\n",
      "  phon_2_lab 0.07936507936507936\n",
      "  phon_2_tense 0.0\n",
      "  phon_2_long 0.0\n"
     ]
    }
   ],
   "source": [
    "print(\"Lexicon:\", stream.info[\"lexicon\"])\n",
    "print(\"TP mode:\", stream.info[\"stream_tp_mode\"])\n",
    "print(\"Feature PRIs:\") \n",
    "for feat, pri in stream.info[\"rhythmicity_indexes\"].items():\n",
    "    print(\" \", feat, pri)"
   ]
  },
  {
   "cell_type": "markdown",
   "id": "c7558308-40fa-4fb5-8ec1-585fc73ba250",
   "metadata": {},
   "source": [
    "As you can see, the `.info` field holds some useful information about the generated stream, i.e. which Lexicon has been used to generate it, the rythmicity indexes achieved for each feature, and which randomization/TP-structure mode has been used.\n",
    "\n",
    "This concludes the second tutorial, and we end this series with the third and last tutorial about how to use your own data."
   ]
  },
  {
   "cell_type": "code",
   "execution_count": null,
   "id": "818242aa-4b28-4dcd-a035-85099c2bc1a0",
   "metadata": {},
   "outputs": [],
   "source": []
  }
 ],
 "metadata": {
  "kernelspec": {
   "display_name": "Python (ARC)",
   "language": "python",
   "name": "arc"
  },
  "language_info": {
   "codemirror_mode": {
    "name": "ipython",
    "version": 3
   },
   "file_extension": ".py",
   "mimetype": "text/x-python",
   "name": "python",
   "nbconvert_exporter": "python",
   "pygments_lexer": "ipython3",
   "version": "3.9.19"
  }
 },
 "nbformat": 4,
 "nbformat_minor": 5
}
