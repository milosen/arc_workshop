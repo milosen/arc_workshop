{
 "cells": [
  {
   "cell_type": "markdown",
   "id": "4b0859a1-27fb-4496-b4fd-f87ab45ea567",
   "metadata": {},
   "source": [
    "# Use your own data\n",
    "\n",
    "In this tutorial, we discuss two ways of using your own data:\n",
    "\n",
    "1. You have one or more lexicons you want to evaluate and generate streams with\n",
    "2. You already have streams and just want to evaluate them\n",
    "\n",
    "If you want to expand ARC, we are happy to invite you to contribute to the [ARC Project](https://github.com/milosen/arc) "
   ]
  },
  {
   "cell_type": "markdown",
   "id": "aa8e43d8-f3f3-4d6b-a756-bb8bb96fc67a",
   "metadata": {},
   "source": [
    "\n",
    "## 1. Loading/creating your custom lexicon\n",
    "\n",
    "Let's say you have a lexicon consisting of the (pseudo-)words 'piɾuta', 'baɡoli', 'tokuda, and 'ɡuhaɪbo'.\n",
    "\n",
    "We assume you have prepared your lexicon as a list of lists (see below), and that all syllables are of the same type. The function `to_lexicon()` accepts the syllable types we call 'cv' and 'cV'. 'cv' is a syllable consisting of a single-character consonant and a short vowel, e.g. 'pi'. Because it is common in the literature, 'cv' also allows diphthongs, e.g. 'haɪ'). The 'cV' type is a single-character consonant, together with a long vowel, e.g. 'tuː'."
   ]
  },
  {
   "cell_type": "code",
   "execution_count": 9,
   "id": "7b20f17a-ff7b-46cf-bc4c-7f341ba8adc3",
   "metadata": {},
   "outputs": [
    {
     "name": "stdout",
     "output_type": "stream",
     "text": [
      "Lexicon: piɾuta|baɡoli|tokuda|ɡuhaɪbo\n",
      "\n",
      "syllable_feature_labels: [['son', 'back', 'hi', 'lab', 'cor', 'cont', 'lat', 'nas', 'voi'], ['back', 'hi', 'lo', 'lab', 'tense', 'long']]\n",
      "syllable_type: cv\n",
      "cumulative_feature_repetitiveness: 7\n",
      "max_pairwise_feature_repetitiveness: 2\n"
     ]
    }
   ],
   "source": [
    "from arc import to_lexicon\n",
    "import numpy as np\n",
    "\n",
    "raw_lexicon = [\n",
    "  ['pi', 'ɾu', 'ta'],\n",
    "  ['ba', 'ɡo', 'li'],\n",
    "  ['to', 'ku', 'da'],\n",
    "  ['ɡu', 'haɪ', 'bo']\n",
    "]\n",
    "\n",
    "lexicon = to_lexicon(raw_lexicon, syllable_type=\"cv\")\n",
    "\n",
    "print(\"Lexicon:\", lexicon)\n",
    "print(\"\")\n",
    "\n",
    "for key, value in lexicon.info.items():\n",
    "    print(f\"{key}:\", lexicon.info[key])\n"
   ]
  },
  {
   "cell_type": "markdown",
   "id": "19210d47-441f-43fc-ac87-c7eee58252b7",
   "metadata": {},
   "source": [
    "### 1.1. Custom Lexicon: Moving upstream\n",
    "\n",
    "Now we \"move upstream\" in the generation process. We turn the lexicon into a stream using the standard `arc` functions introduced earlier."
   ]
  },
  {
   "cell_type": "code",
   "execution_count": 10,
   "id": "6e8de424-9c86-40a3-b709-32ad6278ba4c",
   "metadata": {},
   "outputs": [
    {
     "name": "stdout",
     "output_type": "stream",
     "text": [
      "Streams (summary): piɾutabaɡolitokudaɡuhaɪbo_random|piɾutabaɡolitokudaɡuhaɪbo_word_structured|piɾutabaɡolitokudaɡuhaɪbo_position_controlled\n",
      "\n",
      "tp_modes: ('random', 'word_structured', 'position_controlled')\n",
      "max_rhythmicity: None\n",
      "max_tries_randomize: 10\n",
      "stream_length: 32\n",
      "require_all_tp_modes: True\n"
     ]
    }
   ],
   "source": [
    "from arc import make_streams\n",
    "streams = make_streams([lexicon])\n",
    "\n",
    "print(\"Streams (summary):\", streams)\n",
    "print(\"\")\n",
    "\n",
    "for key, value in streams.info.items():\n",
    "    print(f\"{key}:\", streams.info[key])"
   ]
  },
  {
   "cell_type": "code",
   "execution_count": 11,
   "id": "d839edd9-9d33-423b-a22c-e99be09edc77",
   "metadata": {},
   "outputs": [
    {
     "name": "stdout",
     "output_type": "stream",
     "text": [
      "Stream (random):  haɪ|da|ɡo|ku|ɡu|ba|ɾu|bo|pi|li|ta|to|ɡo|pi|ta|ba|haɪ|ɾu|ɡu|li|da|bo|ku|to|da|ba|ɡu|to|ɾu|li|pi|ɡo|bo|ta|haɪ|ku|ɾu|to|haɪ|pi|da|ku|ta|ɡu|bo|ba|li|ɡo|haɪ|ba|da|ɡu|ta|pi|to|bo|li|ku|ɡo|ɾu|ɡo|to|ba|bo|ɾu|ta|da|pi|haɪ|li|ɡu|ku|da|ta|ɾu|haɪ|to|ɡu|ɡo|li|ba|pi|ku|bo|ɡu|pi|ɾu|ku|ba|ta|bo|haɪ|ɡo|da|to|li|to|ku|pi|ba|ɡo|ɡu|ɾu|da|haɪ|ta|li|bo|to|ta|ɡo|ba|ku|li|ɾu|pi|ɡu|haɪ|bo|da|li|haɪ|ɡu|da|ɾu|ba|to|pi|bo|ɡo|ta|ku|haɪ|bo|to|li|ɾu|pi|ku|ɡu|da|ta|ba|ɡo|bo|da|haɪ|pi|ɡo|ta|ɡu|ɾu|to|ku|ba|li|bo|haɪ|ku|li|to|pi|ɾu|ɡu|ba|ta|ɡo|da|ba|ku|to|ɡo|li|ta|pi|bo|ɾu|haɪ|da|ɡu|bo|ta|haɪ|ɡu|pi|da|ku|ɡo|ɾu|li|ba|to|ɡu|to|bo|pi|haɪ|ba|ɾu|da|li|ɡo|ku|ta|to|ɾu|ku|da|bo|ɡo|ba|ɡu|haɪ|ta|li|pi|ta|ɾu|ɡo|to|da|pi|ba|bo|ɡu|ku|haɪ|li|ɡu|ta|ku|bo|li|da|ɾu|ba|haɪ|ɡo|pi|to|haɪ|to|ta|da|ɡo|ɡu|li|ku|ɾu|bo|ba|pi|li|haɪ|ɾu|ta|bo|ku|pi|ɡu|ɡo|da|to|ba|da|ɡu|bo|ɡo|haɪ|ba|to|ku|li|ɾu|ta|pi|ku|da|haɪ|ɡu|li|to|ba|ɾu|bo|pi|ɡo|ta|haɪ|pi|da|ba|ku|ɡo|to|ɡu|ta|li|bo|ɾu|pi|ta|to|bo|da|li|haɪ|ɾu|ɡu|ku|ba|ɡo|ɡu|pi|haɪ|ta|ɡo|bo|ba|li|ku|ɾu|to|da|ɡo|ku|to|ta|ba|haɪ|bo|li|pi|ɡu|da|ɾu|da|to|li|ɡo|ɾu|ba|pi|bo|ta|ku|ɡu|haɪ|to|haɪ|da|ku|pi|ba|ta|bo|ɡu|ɾu|ɡo|li|ɡu|ba|bo|haɪ|ku|ta|ɾu|li|da|pi|to|ɡo|ba|da|bo|to|ɾu|ku|haɪ|ɡo|pi|li|ta|ɡu\n",
      "\n",
      "PRIs: {'phon_1_son': 0.05291005291005291, 'phon_1_back': 0.042328042328042326, 'phon_1_hi': 0.042328042328042326, 'phon_1_lab': 0.06613756613756613, 'phon_1_cor': 0.07407407407407407, 'phon_1_cont': 0.05291005291005291, 'phon_1_lat': 0.0, 'phon_1_nas': 0.0, 'phon_1_voi': 0.037037037037037035, 'phon_2_back': 0.0, 'phon_2_hi': 0.07671957671957672, 'phon_2_lo': 0.07407407407407407, 'phon_2_lab': 0.0582010582010582, 'phon_2_tense': 0.0, 'phon_2_long': 0.0}\n",
      "\n",
      "Stream (word_structured):  ba|ɡo|li|to|ku|da|ɡu|haɪ|bo|pi|ɾu|ta|ɡu|haɪ|bo|ba|ɡo|li|pi|ɾu|ta|to|ku|da|pi|ɾu|ta|ba|ɡo|li|ɡu|haɪ|bo|to|ku|da|ɡu|haɪ|bo|ba|ɡo|li|to|ku|da|pi|ɾu|ta|ɡu|haɪ|bo|to|ku|da|ba|ɡo|li|pi|ɾu|ta|to|ku|da|ba|ɡo|li|ɡu|haɪ|bo|pi|ɾu|ta|ɡu|haɪ|bo|pi|ɾu|ta|to|ku|da|ba|ɡo|li|to|ku|da|pi|ɾu|ta|ba|ɡo|li|ɡu|haɪ|bo|to|ku|da|ɡu|haɪ|bo|ba|ɡo|li|pi|ɾu|ta|to|ku|da|ɡu|haɪ|bo|pi|ɾu|ta|ba|ɡo|li|pi|ɾu|ta|ɡu|haɪ|bo|ba|ɡo|li|to|ku|da|ba|ɡo|li|ɡu|haɪ|bo|to|ku|da|pi|ɾu|ta|ba|ɡo|li|ɡu|haɪ|bo|pi|ɾu|ta|to|ku|da|pi|ɾu|ta|ɡu|haɪ|bo|to|ku|da|ba|ɡo|li|pi|ɾu|ta|ba|ɡo|li|to|ku|da|ɡu|haɪ|bo|ba|ɡo|li|pi|ɾu|ta|to|ku|da|ɡu|haɪ|bo|to|ku|da|pi|ɾu|ta|ɡu|haɪ|bo|ba|ɡo|li|ɡu|haɪ|bo|pi|ɾu|ta|ba|ɡo|li|to|ku|da|ba|ɡo|li|pi|ɾu|ta|ɡu|haɪ|bo|to|ku|da|pi|ɾu|ta|to|ku|da|ɡu|haɪ|bo|ba|ɡo|li|to|ku|da|ba|ɡo|li|pi|ɾu|ta|ɡu|haɪ|bo|pi|ɾu|ta|to|ku|da|ba|ɡo|li|ɡu|haɪ|bo|ba|ɡo|li|to|ku|da|pi|ɾu|ta|ɡu|haɪ|bo|ba|ɡo|li|ɡu|haɪ|bo|pi|ɾu|ta|to|ku|da|ɡu|haɪ|bo|to|ku|da|pi|ɾu|ta|ba|ɡo|li|to|ku|da|ba|ɡo|li|ɡu|haɪ|bo|pi|ɾu|ta|to|ku|da|ba|ɡo|li|pi|ɾu|ta|ɡu|haɪ|bo|to|ku|da|ɡu|haɪ|bo|ba|ɡo|li|pi|ɾu|ta|ba|ɡo|li|to|ku|da|ɡu|haɪ|bo|pi|ɾu|ta|to|ku|da|ɡu|haɪ|bo|pi|ɾu|ta|ba|ɡo|li|to|ku|da|pi|ɾu|ta|ɡu|haɪ|bo|ba|ɡo|li|ɡu|haɪ|bo|to|ku|da|ba|ɡo|li|pi|ɾu|ta\n",
      "\n",
      "PRIs: {'phon_1_son': 0.15079365079365079, 'phon_1_back': 0.15343915343915343, 'phon_1_hi': 0.15343915343915343, 'phon_1_lab': 0.11904761904761904, 'phon_1_cor': 0.04497354497354497, 'phon_1_cont': 0.15079365079365079, 'phon_1_lat': 0.0, 'phon_1_nas': 0.0, 'phon_1_voi': 0.010582010582010581, 'phon_2_back': 0.0, 'phon_2_hi': 0.010582010582010581, 'phon_2_lo': 0.09788359788359788, 'phon_2_lab': 0.1402116402116402, 'phon_2_tense': 0.0, 'phon_2_long': 0.0}\n",
      "\n",
      "Stream (position_controlled):  to|ɾu|ta|pi|ku|da|ba|haɪ|li|ɡu|ɡo|bo|ɡu|ku|bo|pi|haɪ|da|to|ɡo|ta|ba|ɾu|li|to|haɪ|bo|ba|ku|ta|ɡu|ɾu|da|pi|ɡo|li|pi|ɾu|bo|to|ku|li|ba|ɡo|da|ɡu|haɪ|ta|to|ku|da|ba|haɪ|bo|pi|ɡo|ta|ɡu|ɾu|li|to|ɾu|ta|ba|ɡo|li|ɡu|haɪ|da|pi|ku|bo|to|haɪ|li|ba|ku|ta|pi|ɾu|bo|ɡu|ɡo|da|ɡu|ku|li|pi|haɪ|ta|to|ɡo|bo|ba|ɾu|da|to|ɾu|ta|ɡu|ɡo|da|ba|ku|bo|pi|haɪ|li|to|ɡo|li|pi|ku|da|ɡu|ɾu|bo|ba|haɪ|ta|to|haɪ|bo|ɡu|ku|li|ba|ɡo|ta|pi|ɾu|da|pi|ɡo|bo|to|ku|ta|ba|ɾu|li|ɡu|haɪ|da|to|ɡo|bo|ɡu|ku|li|pi|haɪ|da|ba|ɾu|ta|pi|ku|bo|ba|haɪ|ta|to|ɾu|da|ɡu|ɡo|li|ba|ɡo|da|pi|ɾu|li|to|ku|ta|ɡu|haɪ|bo|to|haɪ|li|ɡu|ɾu|bo|pi|ɡo|ta|ba|ku|da|to|haɪ|bo|ba|ɡo|ta|pi|ɾu|da|ɡu|ku|li|ba|ku|da|to|ɾu|ta|ɡu|ɡo|bo|pi|haɪ|li|ɡu|ɾu|bo|to|ku|ta|ba|haɪ|da|pi|ɡo|li|to|ɡo|da|ba|ɾu|li|pi|ku|bo|ɡu|haɪ|ta|to|ɾu|ta|ba|ɡo|da|pi|haɪ|bo|ɡu|ku|li|pi|ɾu|da|ɡu|haɪ|ta|to|ɡo|li|ba|ku|bo|to|haɪ|li|ɡu|ɡo|ta|pi|ku|da|ba|ɾu|bo|pi|ɡo|bo|ba|haɪ|da|to|ku|ta|ɡu|ɾu|li|to|ɾu|ta|ɡu|ku|da|pi|haɪ|bo|ba|ɡo|li|to|ɡo|bo|pi|ɾu|da|ɡu|haɪ|li|ba|ku|ta|ba|haɪ|da|to|ku|bo|ɡu|ɾu|li|pi|ɡo|ta|pi|ku|li|ɡu|ɡo|da|ba|ɾu|bo|to|haɪ|ta|to|haɪ|bo|pi|ɾu|li|ɡu|ɡo|ta|ba|ku|da|pi|ɡo|da|to|ku|ta|ɡu|haɪ|li|ba|ɾu|bo|ɡu|ku|li|pi|haɪ|ta|to|ɾu|da|ba|ɡo|bo|ba|haɪ|da|ɡu|ɾu|ta|pi|ku|bo|to|ɡo|li\n",
      "\n",
      "PRIs: {'phon_1_son': 0.08994708994708994, 'phon_1_back': 0.0873015873015873, 'phon_1_hi': 0.0873015873015873, 'phon_1_lab': 0.10846560846560846, 'phon_1_cor': 0.1455026455026455, 'phon_1_cont': 0.08994708994708994, 'phon_1_lat': 0.007936507936507936, 'phon_1_nas': 0.0, 'phon_1_voi': 0.013227513227513227, 'phon_2_back': 0.0, 'phon_2_hi': 0.021164021164021163, 'phon_2_lo': 0.06349206349206349, 'phon_2_lab': 0.07407407407407407, 'phon_2_tense': 0.0, 'phon_2_long': 0.0}\n",
      "\n"
     ]
    }
   ],
   "source": [
    "for stream in streams:\n",
    "    tp_mode = stream.info['stream_tp_mode']\n",
    "    pris = stream.info['rhythmicity_indexes']\n",
    "    \n",
    "    print(f\"Stream ({tp_mode}): \", stream, end=\"\\n\\n\")\n",
    "    print(\"PRIs:\", pris, end=\"\\n\\n\")"
   ]
  },
  {
   "cell_type": "markdown",
   "id": "703f58eb-7992-4622-a894-489101abbd8b",
   "metadata": {},
   "source": [
    "### 1.2. Custom Lexicon: Moving downstream"
   ]
  },
  {
   "cell_type": "markdown",
   "id": "e248df26-3b8e-45a7-858a-6cebcf62b602",
   "metadata": {},
   "source": [
    "\"moving downstream\" in the generation process, i.e. generating words, syllables, and phonemes is less common, but we got you covered. Let's say you want to compare the syllables in your custom lexicon with the arc corpus."
   ]
  },
  {
   "cell_type": "code",
   "execution_count": 12,
   "id": "cdde46cd-93cd-4f21-9d46-d8a5ff6f93ad",
   "metadata": {},
   "outputs": [
    {
     "name": "stdout",
     "output_type": "stream",
     "text": [
      "pi|ɾu|ta|ba|ɡo|li|to|ku|da|ɡu|... (12 elements total)\n"
     ]
    }
   ],
   "source": [
    "syllables = lexicon.flatten()\n",
    "print(syllables)"
   ]
  },
  {
   "cell_type": "code",
   "execution_count": 13,
   "id": "9a5f30f0-4488-432a-824a-524c8dc65d41",
   "metadata": {},
   "outputs": [
    {
     "name": "stdout",
     "output_type": "stream",
     "text": [
      "pi|ta|ba|ɡo|li|to|ku|da|ɡu|haɪ|... (11 elements total)\n"
     ]
    },
    {
     "data": {
      "text/plain": [
       "{'binary_features': [0, 0, 0, 1, 0, 0, 0, 0, 0, 0, 1, 0, 0, 1, 0],\n",
       " 'phonotactic_features': [['plo', 'lab'], ['i']],\n",
       " 'freq': 70,\n",
       " 'prob': 6.92628e-05}"
      ]
     },
     "execution_count": 13,
     "metadata": {},
     "output_type": "execute_result"
    }
   ],
   "source": [
    "from arc.io import read_syllables_corpus\n",
    "corpus_syllables = read_syllables_corpus()\n",
    "\n",
    "syllables_with_corpus_stats = syllables.intersection(corpus_syllables)\n",
    "print(syllables_with_corpus_stats)\n",
    "syllables_with_corpus_stats[\"pi\"].info"
   ]
  },
  {
   "cell_type": "code",
   "execution_count": 14,
   "id": "d69e19df-e1b8-4d62-93b9-5cd9921849cd",
   "metadata": {},
   "outputs": [
    {
     "name": "stdout",
     "output_type": "stream",
     "text": [
      "p|i|ɾ|u|t|a|b|ɡ|o|l|... (13 elements total)\n"
     ]
    }
   ],
   "source": [
    "phonemes = syllables.flatten()\n",
    "print(phonemes)"
   ]
  },
  {
   "cell_type": "code",
   "execution_count": 15,
   "id": "d74536ce-2c78-40e2-84cf-faf7dd77aa46",
   "metadata": {},
   "outputs": [
    {
     "name": "stdout",
     "output_type": "stream",
     "text": [
      "p|t|a|b|ɡ|l|k|d|h\n",
      "{'features': ['-', '-', '+', '-', '-', '-', '-', '0', '-', '-', '-', '+', '-', '0', '+', '-', '-', '-', '-', '0', '-'], 'word_position_prob': {0: 0.17205350479361617, 1: 0.21734887192146507, 2: 0.28055571502382454, 3: 0.19685400998909236, 4: 0.04449164705206958, 5: 0.03743039210057983, 6: 0.018542970319765772, 7: 0.012859521212469143, 8: 0.007463114989379413, 9: 0.003961191802055227, 10: 0.003387106033641426, 11: 0.0014926229978758827, 12: 0.0020667087662896836, 13: 0.0006314943452551811, 14: 0.00040186003788966073, 15: 0.0002870428842069005, 16: 5.74085768413801e-05, 17: 0.0, 18: 5.74085768413801e-05, 19: 5.74085768413801e-05}}\n"
     ]
    }
   ],
   "source": [
    "from arc.io import read_phoneme_corpus\n",
    "corpus_phonemes = read_phoneme_corpus()\n",
    "\n",
    "phonemes_with_stats = phonemes.intersection(corpus_phonemes)\n",
    "print(phonemes_with_stats)\n",
    "print(phonemes_with_stats[\"p\"].info)"
   ]
  },
  {
   "cell_type": "markdown",
   "id": "3b6e2702-7363-45b3-a289-2dc051d29570",
   "metadata": {},
   "source": [
    "## Reading your stream\n",
    "\n",
    "Again, we assume you have prepared your data into a list of syllables like below."
   ]
  },
  {
   "cell_type": "code",
   "execution_count": 16,
   "id": "4f5e7334-cfc1-4fd4-bc76-08edfefabb59",
   "metadata": {},
   "outputs": [
    {
     "name": "stdout",
     "output_type": "stream",
     "text": [
      "Stream:  pi|ɾu|ta|ba|ɡo|li|to|ku|da|ɡu|ki|bo|pi|ɾu|ta|ba|ɡo|li|to|ku|da|ɡu|ki|bo|pi|ɾu|ta|ba|ɡo|li|to|ku|da|ɡu|ki|bo|pi|ɾu|ta|ba|ɡo|li|to|ku|da|ɡu|ki|bo|pi|ɾu|ta|ba|ɡo|li|to|ku|da|ɡu|ki|bo|pi|ɾu|ta|ba|ɡo|li|to|ku|da|ɡu|ki|bo|pi|ɾu|ta|ba|ɡo|li|to|ku|da|ɡu|ki|bo|pi|ɾu|ta|ba|ɡo|li|to|ku|da|ɡu|ki|bo|pi|ɾu|ta|ba|ɡo|li|to|ku|da|ɡu|ki|bo|pi|ɾu|ta|ba|ɡo|li|to|ku|da|ɡu|ki|bo|pi|ɾu|ta|ba|ɡo|li|to|ku|da|ɡu|ki|bo|pi|ɾu|ta|ba|ɡo|li|to|ku|da|ɡu|ki|bo|pi|ɾu|ta|ba|ɡo|li|to|ku|da|ɡu|ki|bo|pi|ɾu|ta|ba|ɡo|li|to|ku|da|ɡu|ki|bo|pi|ɾu|ta|ba|ɡo|li|to|ku|da|ɡu|ki|bo|pi|ɾu|ta|ba|ɡo|li|to|ku|da|ɡu|ki|bo|pi|ɾu|ta|ba|ɡo|li|to|ku|da|ɡu|ki|bo|pi|ɾu|ta|ba|ɡo|li|to|ku|da|ɡu|ki|bo|pi|ɾu|ta|ba|ɡo|li|to|ku|da|ɡu|ki|bo|pi|ɾu|ta|ba|ɡo|li|to|ku|da|ɡu|ki|bo|pi|ɾu|ta|ba|ɡo|li|to|ku|da|ɡu|ki|bo|pi|ɾu|ta|ba|ɡo|li|to|ku|da|ɡu|ki|bo|pi|ɾu|ta|ba|ɡo|li|to|ku|da|ɡu|ki|bo|pi|ɾu|ta|ba|ɡo|li|to|ku|da|ɡu|ki|bo|pi|ɾu|ta|ba|ɡo|li|to|ku|da|ɡu|ki|bo|pi|ɾu|ta|ba|ɡo|li|to|ku|da|ɡu|ki|bo|pi|ɾu|ta|ba|ɡo|li|to|ku|da|ɡu|ki|bo|pi|ɾu|ta|ba|ɡo|li|to|ku|da|ɡu|ki|bo|pi|ɾu|ta|ba|ɡo|li|to|ku|da|ɡu|ki|bo|pi|ɾu|ta|ba|ɡo|li|to|ku|da|ɡu|ki|bo|pi|ɾu|ta|ba|ɡo|li|to|ku|da|ɡu|ki|bo|pi|ɾu|ta|ba|ɡo|li|to|ku|da|ɡu|ki|bo\n",
      "\n",
      "rhythmicity indexes (PRIs) {'phon_1_son': 0.0, 'phon_1_back': 0.1693121693121693, 'phon_1_hi': 0.1693121693121693, 'phon_1_lab': 0.08465608465608465, 'phon_1_cor': 0.0, 'phon_1_cont': 0.0, 'phon_1_lat': 0.0, 'phon_1_nas': 0.0, 'phon_1_voi': 0.0, 'phon_2_back': 0.0, 'phon_2_hi': 0.0, 'phon_2_lo': 0.0, 'phon_2_lab': 0.0, 'phon_2_tense': 0.0, 'phon_2_long': 0.0}\n"
     ]
    }
   ],
   "source": [
    "from arc import to_stream\n",
    "\n",
    "stream = ['pi', 'ɾu', 'ta', 'ba', 'ɡo', 'li', 'to', 'ku', 'da', 'ɡu', 'ki', 'bo']*streams.info['stream_length']\n",
    "\n",
    "stream = to_stream(stream)\n",
    "\n",
    "print(\"Stream: \", stream, end=\"\\n\\n\")\n",
    "print(\"rhythmicity indexes (PRIs)\", stream.info['rhythmicity_indexes'])"
   ]
  },
  {
   "cell_type": "markdown",
   "id": "e460fa40-acf5-48a9-b00a-abd0b8f5f970",
   "metadata": {},
   "source": [
    "As you can see, even with a custom lexicon, the randomization of a stream has an effect on the PRIs.\n",
    "\n",
    "This concludes our third and last tutorial. We hope you feel ready to use ARC, and help us extend it."
   ]
  },
  {
   "cell_type": "code",
   "execution_count": null,
   "id": "ae5baf99-7704-462c-8e33-b3875930070c",
   "metadata": {},
   "outputs": [],
   "source": []
  }
 ],
 "metadata": {
  "kernelspec": {
   "display_name": "Python 3 (ipykernel)",
   "language": "python",
   "name": "python3"
  },
  "language_info": {
   "codemirror_mode": {
    "name": "ipython",
    "version": 3
   },
   "file_extension": ".py",
   "mimetype": "text/x-python",
   "name": "python",
   "nbconvert_exporter": "python",
   "pygments_lexer": "ipython3",
   "version": "3.10.12"
  }
 },
 "nbformat": 4,
 "nbformat_minor": 5
}
